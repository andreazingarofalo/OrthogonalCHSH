{
 "cells": [
  {
   "cell_type": "markdown",
   "id": "b41a6dde",
   "metadata": {},
   "source": [
    "# Numerical SOS decomposition for $\\beta_T$"
   ]
  },
  {
   "cell_type": "markdown",
   "id": "f35673a2",
   "metadata": {},
   "source": [
    "## Preliminaries"
   ]
  },
  {
   "cell_type": "code",
   "execution_count": 1,
   "id": "e51f0ba6",
   "metadata": {},
   "outputs": [],
   "source": [
    "import numpy as np\n",
    "import matplotlib.pyplot as plt\n",
    "import ncpol2sdpa as ncp\n",
    "import pandas as pd\n",
    "\n",
    "# Define quantum operators\n",
    "A_config = [2,2]\n",
    "B_config = [2,2]\n",
    "\n",
    "# Operators in problem\n",
    "A = [Ai for Ai in ncp.generate_measurements(A_config, 'A')]\n",
    "B = [Bj for Bj in ncp.generate_measurements(B_config, 'B')]\n",
    "\n",
    "ops = ncp.flatten([A,B])        # Base monomials involved in problem\n",
    "subs = {}\n",
    "\n",
    "# 1. Unitarity: A^2 = 1\n",
    "for op in ops:\n",
    "    subs[op**2] = 1\n",
    "\n",
    "# 2. Commutation: force a canonical ordering B*A → A*B\n",
    "for Ai in ncp.flatten(A):\n",
    "    for Bj in ncp.flatten(B):\n",
    "        subs[Bj * Ai] = Ai * Bj\n",
    "\n",
    "A0 = A[0][0]\n",
    "A1 = A[1][0]\n",
    "B0 = B[0][0]\n",
    "B1 = B[1][0]"
   ]
  },
  {
   "cell_type": "markdown",
   "id": "783636a0",
   "metadata": {},
   "source": [
    "### Debugging"
   ]
  },
  {
   "cell_type": "code",
   "execution_count": 22,
   "id": "dcb7ff80",
   "metadata": {},
   "outputs": [
    {
     "name": "stdout",
     "output_type": "stream",
     "text": [
      "False\n",
      "False\n",
      "False\n",
      "False\n"
     ]
    }
   ],
   "source": [
    "print(A0 * A1 == A1 * A0)  # This should print: False\n",
    "print(B0 * B1 == B1 * B0)  # This should print: False\n",
    "print(A0 * B0 == B0 * A0)  # This should print: False (after, we will guarantee [A_x, B_y] = 0 via subs)\n",
    "print(A0 * B1 == B1 * A0)  # This should print: False (after, we will guarantee [A_x, B_y] = 0 via subs)"
   ]
  },
  {
   "cell_type": "code",
   "execution_count": 15,
   "id": "2c70d4b0",
   "metadata": {},
   "outputs": [
    {
     "name": "stdout",
     "output_type": "stream",
     "text": [
      "A[0][0] is Hermitian? True\n",
      "A[1][0] is Hermitian? True\n",
      "B[0][0] is Hermitian? True\n",
      "B[1][0] is Hermitian? True\n"
     ]
    }
   ],
   "source": [
    "from sympy.physics.quantum.operator import HermitianOperator\n",
    "\n",
    "for i, row in enumerate(A):\n",
    "    for j, op in enumerate(row):\n",
    "        print(f\"A[{i}][{j}] is Hermitian? {isinstance(op, HermitianOperator)}\")\n",
    "for i, row in enumerate(B):\n",
    "    for j, op in enumerate(row):\n",
    "        print(f\"B[{i}][{j}] is Hermitian? {isinstance(op, HermitianOperator)}\")"
   ]
  },
  {
   "cell_type": "code",
   "execution_count": 16,
   "id": "5d3ecad3",
   "metadata": {},
   "outputs": [
    {
     "data": {
      "text/plain": [
       "{A0**2: 1,\n",
       " A1**2: 1,\n",
       " B0**2: 1,\n",
       " B1**2: 1,\n",
       " B0*A0: A0*B0,\n",
       " B1*A0: A0*B1,\n",
       " B0*A1: A1*B0,\n",
       " B1*A1: A1*B1}"
      ]
     },
     "execution_count": 16,
     "metadata": {},
     "output_type": "execute_result"
    }
   ],
   "source": [
    "subs"
   ]
  },
  {
   "cell_type": "markdown",
   "id": "d4e1f436",
   "metadata": {},
   "source": [
    "## Test: the CHSH expression"
   ]
  },
  {
   "cell_type": "markdown",
   "id": "d95483c3",
   "metadata": {},
   "source": [
    "### $T_{1+A+B+AB}$"
   ]
  },
  {
   "cell_type": "code",
   "execution_count": 38,
   "id": "c95ed253",
   "metadata": {},
   "outputs": [
    {
     "name": "stdout",
     "output_type": "stream",
     "text": [
      "1.0000000003262057 0.999999999787619 optimal\n"
     ]
    }
   ],
   "source": [
    "def get_extra_monomials():\n",
    "    \"\"\"\n",
    "    Returns additional monomials to add to sdp relaxation.\n",
    "    \"\"\"\n",
    "\n",
    "    monos = []\n",
    "\n",
    "    Aflat = ncp.flatten(A)\n",
    "    Bflat = ncp.flatten(B)\n",
    "    \n",
    "    # AB\n",
    "    for a in Aflat:\n",
    "        for b in Bflat:\n",
    "            monos += [a*b]\n",
    "    \n",
    "    return monos[:]\n",
    "\n",
    "moment_ineqs = []                      # moment inequalities\n",
    "moment_eqs = []                        # moment equalities\n",
    "op_eqs = []                            # operator equalities\n",
    "op_ineqs = []                          # operator inequalities\n",
    "extra_monos = get_extra_monomials()    # extra monomials\n",
    "\n",
    "obj = (A0*B0 + A1*B0 + A0*B1 - A1*B1)/(2*np.sqrt(2))\n",
    "\n",
    "sdp = ncp.SdpRelaxation(ops, verbose=0, normalized=True, parallel=0)\n",
    "sdp.get_relaxation(\n",
    "    level=0,\n",
    "    equalities = op_eqs[:],\n",
    "    inequalities = op_ineqs[:],\n",
    "    momentequalities = moment_eqs[:],\n",
    "    momentinequalities = moment_ineqs[:],\n",
    "    objective=obj,\n",
    "    substitutions = subs,\n",
    "    extramonomials = extra_monos\n",
    ")\n",
    "sdp.solve(solver=\"mosek\")\n",
    "print(-sdp.primal, -sdp.dual, sdp.status)"
   ]
  },
  {
   "cell_type": "code",
   "execution_count": 39,
   "id": "968f216e",
   "metadata": {},
   "outputs": [
    {
     "name": "stdout",
     "output_type": "stream",
     "text": [
      "The monomial basis is:  [1, A0, A1, B0, B1, A0*B0, A0*B1, A1*B0, A1*B1]\n",
      " \n",
      "          0         1         2         3         4         5         6         7         8\n",
      "0  0.276783 -0.000000  0.000000 -0.000000 -0.000000  0.097857  0.097857  0.097857 -0.097857\n",
      "1 -0.000000  0.111609 -0.000000  0.078919  0.078919  0.000000 -0.000000  0.000000  0.000000\n",
      "2  0.000000 -0.000000  0.111609  0.078919 -0.078919  0.000000 -0.000000  0.000000  0.000000\n",
      "3 -0.000000  0.078919  0.078919  0.111609 -0.000000  0.000000 -0.000000  0.000000  0.000000\n",
      "4 -0.000000  0.078919 -0.078919 -0.000000  0.111609 -0.000000  0.000000 -0.000000 -0.000000\n",
      "5  0.097857  0.000000  0.000000  0.000000 -0.000000  0.069195  0.034598  0.034598 -0.000000\n",
      "6  0.097857 -0.000000 -0.000000 -0.000000  0.000000  0.034598  0.069195 -0.000000 -0.034598\n",
      "7  0.097857  0.000000  0.000000  0.000000 -0.000000  0.034598 -0.000000  0.069195 -0.034598\n",
      "8 -0.097857  0.000000  0.000000  0.000000 -0.000000 -0.000000 -0.034598 -0.034598  0.069195\n",
      " \n",
      "SOS decomposition in the monomial basis:  [0.276783463331343 - 8.18733867051531e-18*A0 - 8.75123237764619e-11*A0*A1 + 6.94304356265142e-17*A0*A1*B0 - 4.50763305699673e-17*A0*A1*B1 + 0.2746341658709*A0*B0 + 2.8983325645178e-17*A0*B0*A0 + 0.0691954962548232*A0*B0*A0*B0 + 0.0345977481162479*A0*B0*A0*B1 + 4.24352685813274e-17*A0*B0*A1 + 0.0345977481200435*A0*B0*A1*B0 + 2.03398137671799e-17*A0*B0*A1*B1 - 1.48655302238297e-17*A0*B0*B1 + 3.44652111838387e-17*A0*B0**2 + 0.274634165747141*A0*B1 + 3.76399650274783e-17*A0*B1*A0 + 0.0345977481162479*A0*B1*A0*B0 + 0.0691954961673098*A0*B1*A0*B1 - 6.6939450422021e-17*A0*B1*A1 - 9.16248776358158e-17*A0*B1*A1*B0 - 0.0345977480325313*A0*B1*A1*B1 - 1.92237372502441e-17*A0*B1*B0 + 4.07004222946218e-17*A0*B1**2 + 0.111608638026237*A0**2 + 2.8983325645178e-17*A0**2*B0 + 3.76399650274783e-17*A0**2*B1 + 6.95991691225957e-20*A1 - 8.75123237764619e-11*A1*A0 + 4.24352685813274e-17*A1*A0*B0 - 6.6939450422021e-17*A1*A0*B1 + 0.274634165838615*A1*B0 + 6.94304356265142e-17*A1*B0*A0 + 0.0345977481200435*A1*B0*A0*B0 - 9.16248776358158e-17*A1*B0*A0*B1 + 3.82937266802362e-17*A1*B0*A1 + 0.0691954962319936*A1*B0*A1*B0 - 0.0345977480934187*A1*B0*A1*B1 - 5.49925451694638e-18*A1*B0*B1 + 5.66799372911692e-17*A1*B0**2 - 0.274634165714856*A1*B1 - 4.50763305699673e-17*A1*B1*A0 + 2.03398137671799e-17*A1*B1*A0*B0 - 0.0345977480325313*A1*B1*A0*B1 + 1.11624307816977e-17*A1*B1*A1 - 0.0345977480934187*A1*B1*A1*B0 + 0.0691954961444795*A1*B1*A1*B1 + 1.99062752287364e-17*A1*B1*B0 - 2.80646160958944e-17*A1*B1**2 + 0.111608638071891*A1**2 + 3.82937266802362e-17*A1**2*B0 + 1.11624307816977e-17*A1**2*B1 - 3.915901639779e-18*B0 + 0.0789192247008627*B0*A0 + 3.44652111838387e-17*B0*A0*B0 - 1.92237372502441e-17*B0*A0*B1 + 0.0789192247331461*B0*A1 + 5.66799372911692e-17*B0*A1*B0 + 1.99062752287364e-17*B0*A1*B1 - 2.28289505355139e-11*B0*B1 + 0.111608637961555*B0**2 - 4.01675582511248e-18*B1 + 0.0789192248246211*B1*A0 - 1.48655302238297e-17*B1*A0*B0 + 4.07004222946218e-17*B1*A0*B1 - 0.0789192248569049*B1*A1 - 5.49925451694638e-18*B1*A1*B0 - 2.80646160958944e-17*B1*A1*B1 - 2.28289505355139e-11*B1*B0 + 0.111608638136573*B1**2]\n"
     ]
    }
   ],
   "source": [
    "print(\"The monomial basis is: \", sdp.monomial_sets[0])\n",
    "print(\" \")\n",
    "\n",
    "Wmonchsh = sdp.y_mat[0]\n",
    "dfchsh = pd.DataFrame(Wmonchsh)\n",
    "np.savetxt(\"Wmonchsh.csv\", Wmonchsh, delimiter=\",\")\n",
    "print(dfchsh.to_string(float_format=\"{:.6f}\".format))\n",
    "print(\" \")\n",
    "\n",
    "sos_chsh = sdp.get_sos_decomposition()\n",
    "print(\"SOS decomposition in the monomial basis: \", sos_chsh)"
   ]
  },
  {
   "cell_type": "markdown",
   "id": "468d981c",
   "metadata": {},
   "source": [
    "### $T_{1+A+B+AB+ABB'}$"
   ]
  },
  {
   "cell_type": "code",
   "execution_count": 20,
   "id": "aa095dca",
   "metadata": {},
   "outputs": [
    {
     "name": "stdout",
     "output_type": "stream",
     "text": [
      "1.0000000006196237 0.99999999973541 optimal\n"
     ]
    }
   ],
   "source": [
    "def get_extra_monomials():\n",
    "    \"\"\"\n",
    "    Returns additional monomials to add to sdp relaxation.\n",
    "    \"\"\"\n",
    "\n",
    "    monos = []\n",
    "\n",
    "    Aflat = ncp.flatten(A)\n",
    "    Bflat = ncp.flatten(B)\n",
    "    \n",
    "    # AB\n",
    "    for a in Aflat:\n",
    "        for b in Bflat:\n",
    "            monos += [a*b]\n",
    "\n",
    "    # ABB\n",
    "    for a in Aflat:\n",
    "        for b in Bflat:\n",
    "            for b2 in Bflat:\n",
    "                monos += [a*b*b2]\n",
    "    \n",
    "    return monos[:]\n",
    "\n",
    "moment_ineqs = []                      # moment inequalities\n",
    "moment_eqs = []                        # moment equalities\n",
    "op_eqs = []                            # operator equalities\n",
    "op_ineqs = []                          # operator inequalities\n",
    "extra_monos = get_extra_monomials()    # extra monomials\n",
    "\n",
    "obj = (A0*B0 + A1*B0 + A0*B1 - A1*B1)/(2*np.sqrt(2))\n",
    "\n",
    "sdp = ncp.SdpRelaxation(ops, verbose=0, normalized=True, parallel=0)\n",
    "sdp.get_relaxation(\n",
    "    level=0,\n",
    "    equalities = op_eqs[:],\n",
    "    inequalities = op_ineqs[:],\n",
    "    momentequalities = moment_eqs[:],\n",
    "    momentinequalities = moment_ineqs[:],\n",
    "    objective=obj,\n",
    "    substitutions = subs,\n",
    "    extramonomials = extra_monos\n",
    ")\n",
    "sdp.solve(solver=\"mosek\")\n",
    "print(-sdp.primal, -sdp.dual, sdp.status)"
   ]
  },
  {
   "cell_type": "code",
   "execution_count": 21,
   "id": "9953c150",
   "metadata": {},
   "outputs": [
    {
     "name": "stdout",
     "output_type": "stream",
     "text": [
      "The monomial basis is:  [1, A0, A1, B0, B1, A0*B0, A0*B1, A1*B0, A1*B1, A0*B0*B1, A0*B1*B0, A1*B0*B1, A1*B1*B0]\n",
      " \n",
      "          0         1         2         3         4         5         6         7         8         9         10        11        12\n",
      "0   0.149788 -0.000000 -0.000000 -0.000000  0.000000  0.052958  0.052958  0.052958 -0.052958 -0.000000 -0.000000 -0.000000 -0.000000\n",
      "1  -0.000000  0.082726  0.000000  0.061273  0.061273  0.000000 -0.000000  0.000000  0.000000  0.021695  0.021695 -0.001963  0.001963\n",
      "2  -0.000000  0.000000  0.082726  0.061273 -0.061273  0.000000 -0.000000 -0.000000  0.000000  0.001963 -0.001963 -0.021695 -0.021695\n",
      "3  -0.000000  0.061273  0.061273  0.175107 -0.000000  0.000000 -0.000000 -0.000000  0.000000  0.062546  0.000000 -0.062546  0.000000\n",
      "4   0.000000  0.061273 -0.061273 -0.000000  0.175107  0.000000  0.000000  0.000000  0.000000 -0.000000  0.062546  0.000000  0.062546\n",
      "5   0.052958  0.000000  0.000000  0.000000  0.000000  0.041374  0.018723  0.018723  0.003927 -0.000000  0.000000 -0.000000  0.000000\n",
      "6   0.052958 -0.000000 -0.000000 -0.000000  0.000000  0.018723  0.041374 -0.003927 -0.018723 -0.000000 -0.000000 -0.000000 -0.000000\n",
      "7   0.052958  0.000000 -0.000000 -0.000000  0.000000  0.018723 -0.003927  0.041374 -0.018723 -0.000000  0.000000 -0.000000 -0.000000\n",
      "8  -0.052958  0.000000  0.000000  0.000000  0.000000  0.003927 -0.018723 -0.018723  0.041374  0.000000  0.000000  0.000000  0.000000\n",
      "9  -0.000000  0.021695  0.001963  0.062546 -0.000000 -0.000000 -0.000000 -0.000000  0.000000  0.042263  0.000000 -0.022532  0.000000\n",
      "10 -0.000000  0.021695 -0.001963  0.000000  0.062546  0.000000 -0.000000  0.000000  0.000000  0.000000  0.042263  0.000000  0.022532\n",
      "11 -0.000000 -0.001963 -0.021695 -0.062546  0.000000 -0.000000 -0.000000 -0.000000  0.000000 -0.022532  0.000000  0.042263 -0.000000\n",
      "12 -0.000000  0.001963 -0.021695  0.000000  0.062546  0.000000 -0.000000 -0.000000  0.000000  0.000000  0.022532 -0.000000  0.042263\n",
      " \n",
      "SOS decomposition in the monomial basis:  [0.149788312030968 - 5.40765130151941e-17*A0 + 3.57214017046581e-10*A0*A1 + 8.56824881063867e-18*A0*A1*B0 - 0.00196338373060674*A0*A1*B0*B1 + 5.63253199868088e-17*A0*A1*B1 + 0.00196338347584815*A0*A1*B1*B0 + 0.167188953889795*A0*B0 - 1.05296571531099e-17*A0*B0*A0 + 0.0413735679997417*A0*B0*A0*B0 - 2.64704934195775e-17*A0*B0*A0*B0*B1 + 0.0187234005443709*A0*B0*A0*B1 - 3.82259443526702e-18*A0*B0*A0*B1*B0 + 4.33416325416207e-17*A0*B0*A1 + 0.0187234003053594*A0*B0*A1*B0 - 2.35518560021751e-17*A0*B0*A1*B0*B1 + 0.00392676712460034*A0*B0*A1*B1 - 1.97523992293785e-17*A0*B0*A1*B1*B0 - 1.01616861248159e-16*A0*B0*B1 + 0.0216945517478446*A0*B0*B1*A0 - 2.64704934195775e-17*A0*B0*B1*A0*B0 + 0.0422629150913867*A0*B0*B1*A0*B0*B1 - 1.38668567906191e-17*A0*B0*B1*A0*B1 + 4.05998325236911e-12*A0*B0*B1*A0*B1*B0 + 0.001963383677126*A0*B0*B1*A1 - 9.54475702538223e-18*A0*B0*B1*A1*B0 - 0.0225320623159456*A0*B0*B1*A1*B0*B1 + 2.34236714812761e-17*A0*B0*B1*A1*B1 - 9.54097911787244e-18*A0*B0*B1*A1*B1*B0 + 0.0625457113494017*A0*B0*B1*B0 - 1.01047642475649e-16*A0*B0*B1**2 - 3.13348853786763e-18*A0*B0**2 + 0.167188953880495*A0*B1 - 2.87221386116969e-17*A0*B1*A0 + 0.0187234005443709*A0*B1*A0*B0 - 1.38668567906191e-17*A0*B1*A0*B0*B1 + 0.0413735682998131*A0*B1*A0*B1 + 4.74727187814126e-18*A0*B1*A0*B1*B0 - 5.00550296049592e-17*A0*B1*A1 - 0.00392676715297422*A0*B1*A1*B0 - 1.24538069643978e-17*A0*B1*A1*B0*B1 - 0.0187234005770593*A0*B1*A1*B1 + 9.78070476491952e-18*A0*B1*A1*B1*B0 - 2.23821409299009e-17*A0*B1*B0 + 0.0216945515550852*A0*B1*B0*A0 - 3.82259443526702e-18*A0*B1*B0*A0*B0 + 4.05998325236911e-12*A0*B1*B0*A0*B0*B1 + 4.74727187814126e-18*A0*B1*B0*A0*B1 + 0.0422629150962434*A0*B1*B0*A0*B1*B0 - 0.0019633833939936*A0*B1*B0*A1 + 1.07936013852656e-17*A0*B1*B0*A1*B0 + 4.74880551548651e-17*A0*B1*B0*A1*B0*B1 + 1.26860020419899e-17*A0*B1*B0*A1*B1 + 0.0225320622304314*A0*B1*B0*A1*B1*B0 + 0.0625457109558692*A0*B1*B0*B1 + 4.20670442924376e-17*A0*B1*B0**2 + 3.58311217585117e-17*A0*B1**2 + 0.0827263521176314*A0**2 - 1.05296571531099e-17*A0**2*B0 + 0.0216945517478446*A0**2*B0*B1 - 2.87221386116969e-17*A0**2*B1 + 0.0216945515550852*A0**2*B1*B0 - 2.98904481640602e-17*A1 + 3.57214017046581e-10*A1*A0 + 4.33416325416207e-17*A1*A0*B0 + 0.001963383677126*A1*A0*B0*B1 - 5.00550296049592e-17*A1*A0*B1 - 0.0019633833939936*A1*A0*B1*B0 + 0.167188953830669*A1*B0 + 8.56824881063867e-18*A1*B0*A0 + 0.0187234003053594*A1*B0*A0*B0 - 9.54475702538223e-18*A1*B0*A0*B0*B1 - 0.00392676715297422*A1*B0*A0*B1 + 1.07936013852656e-17*A1*B0*A0*B1*B0 - 1.19709315295062e-17*A1*B0*A1 + 0.0413735678280428*A1*B0*A1*B0 - 3.38269775878702e-17*A1*B0*A1*B0*B1 - 0.0187234003442967*A1*B0*A1*B1 + 4.120556615154e-18*A1*B0*A1*B1*B0 - 6.30813705040636e-17*A1*B0*B1 - 0.00196338373060674*A1*B0*B1*A0 - 2.35518560021751e-17*A1*B0*B1*A0*B0 - 0.0225320623159456*A1*B0*B1*A0*B0*B1 - 1.24538069643978e-17*A1*B0*B1*A0*B1 + 4.74880551548651e-17*A1*B0*B1*A0*B1*B0 - 0.0216945518920471*A1*B0*B1*A1 - 3.38269775878702e-17*A1*B0*B1*A1*B0 + 0.0422629151740051*A1*B0*B1*A1*B0*B1 + 1.25344362225999e-17*A1*B0*B1*A1*B1 - 4.05998574603411e-12*A1*B0*B1*A1*B1*B0 - 0.0625457115533489*A1*B0*B1*B0 - 4.17417836406919e-18*A1*B0*B1**2 + 3.30780899040944e-17*A1*B0**2 - 0.167188953393594*A1*B1 + 5.63253199868088e-17*A1*B1*A0 + 0.00392676712460034*A1*B1*A0*B0 + 2.34236714812761e-17*A1*B1*A0*B0*B1 - 0.0187234005770593*A1*B1*A0*B1 + 1.26860020419899e-17*A1*B1*A0*B1*B0 + 3.57470261418376e-18*A1*B1*A1 - 0.0187234003442967*A1*B1*A1*B0 + 1.25344362225999e-17*A1*B1*A1*B0*B1 + 0.0413735680713662*A1*B1*A1*B1 + 2.11609341964982e-17*A1*B1*A1*B1*B0 + 2.29179794385491e-17*A1*B1*B0 + 0.00196338347584815*A1*B1*B0*A0 - 1.97523992293785e-17*A1*B1*B0*A0*B0 - 9.54097911787244e-18*A1*B1*B0*A0*B0*B1 + 9.78070476491952e-18*A1*B1*B0*A0*B1 + 0.0225320622304314*A1*B1*B0*A0*B1*B0 - 0.0216945513968088*A1*B1*B0*A1 + 4.120556615154e-18*A1*B1*B0*A1*B0 - 4.05998574603411e-12*A1*B1*B0*A1*B0*B1 + 2.11609341964982e-17*A1*B1*B0*A1*B1 + 0.0422629148480054*A1*B1*B0*A1*B1*B0 + 0.062545710732041*A1*B1*B0*B1 + 3.06829214813398e-17*A1*B1*B0**2 + 3.64395780348869e-17*A1*B1**2 + 0.0827263526671723*A1**2 - 1.19709315295062e-17*A1**2*B0 - 0.0216945518920471*A1**2*B0*B1 + 3.57470261418376e-18*A1**2*B1 - 0.0216945513968088*A1**2*B1*B0 - 8.42930226140355e-17*B0 + 0.061273014767494*B0*A0 - 3.13348853786763e-18*B0*A0*B0 + 0.0625457113494017*B0*A0*B0*B1 - 2.21036639050331e-17*B0*A0*B1 + 4.20670442924376e-17*B0*A0*B1*B0 + 0.0612730152742758*B0*A1 + 3.30780899040944e-17*B0*A1*B0 - 0.0625457115533489*B0*A1*B0*B1 + 6.58907332273825e-17*B0*A1*B1 + 3.06829214813398e-17*B0*A1*B1*B0 - 2.14148030688519e-10*B0*B1 + 0.175106526828329*B0**2 + 9.94938268479439e-17*B1 + 0.0612730139897284*B1*A0 - 1.32236298136156e-18*B1*A0*B0 - 1.01047642475649e-16*B1*A0*B0*B1 + 3.58311217585117e-17*B1*A0*B1 + 0.0625457109558692*B1*A0*B1*B0 - 0.0612730140687349*B1*A1 + 4.93618525206329e-17*B1*A1*B0 - 4.17417836406919e-18*B1*A1*B0*B1 + 3.64395780348869e-17*B1*A1*B1 + 0.062545710732041*B1*A1*B1*B0 - 2.14148030688519e-10*B1*B0 + 0.175106524566918*B1**2]\n"
     ]
    }
   ],
   "source": [
    "print(\"The monomial basis is: \", sdp.monomial_sets[0])\n",
    "print(\" \")\n",
    "\n",
    "Wmonchsh = sdp.y_mat[0]\n",
    "dfchsh = pd.DataFrame(Wmonchsh)\n",
    "np.savetxt(\"Wmonchsh.csv\", Wmonchsh, delimiter=\",\")\n",
    "print(dfchsh.to_string(float_format=\"{:.6f}\".format))\n",
    "print(\" \")\n",
    "\n",
    "sos_chsh = sdp.get_sos_decomposition()\n",
    "print(\"SOS decomposition in the monomial basis: \", sos_chsh)"
   ]
  },
  {
   "cell_type": "markdown",
   "id": "0830cc3a",
   "metadata": {},
   "source": [
    "Two lessons: \n",
    "- Do not use ``get_sos_decomposition()`` since it does not seem to take into account the ``subs``.\n",
    "- The dual solution works, but only assuming $[A_0, A_1] = 0, \\quad [B_0, B_1] = 0$."
   ]
  },
  {
   "cell_type": "markdown",
   "id": "9cfdaa55",
   "metadata": {},
   "source": [
    "## Testing Victor's Bell expressions at different levels of the hierarchy"
   ]
  },
  {
   "cell_type": "code",
   "execution_count": null,
   "id": "e0f32328",
   "metadata": {},
   "outputs": [],
   "source": [
    "def test_point_quantum_bound(r0, r1, level=0, verbose=False):\n",
    "    \"\"\"\n",
    "    Tests whether a point (parametrized by theta, r0 = p1, r1 = 2*p4) is quantum-realizable\n",
    "    by solving the associated SDP relaxation at level 0 with different sets of monomials.\n",
    "\n",
    "    Parameters:\n",
    "    -----------\n",
    "    theta : float\n",
    "        The measurement angle θ in radians.\n",
    "    r0 : float\n",
    "        Parameter such that p1 = r0.\n",
    "    r1 : float\n",
    "        Parameter such that p4 = 0.5 * r1.\n",
    "    level : str or int\n",
    "        Level of the relaxation: 0, 'AB', 'ABB', or 'AAB'.\n",
    "    solver : str\n",
    "        SDP solver to use (e.g., \"mosek\", \"cvxopt\", \"sdpa\").\n",
    "    verbose : bool\n",
    "        Whether to print verbose SDP solver output.\n",
    "\n",
    "    Returns:\n",
    "    --------\n",
    "    primal : float\n",
    "        The negative primal bound.\n",
    "    dual : float\n",
    "        The negative dual bound.\n",
    "    status : str\n",
    "        The solver status string.\n",
    "    \"\"\"\n",
    "\n",
    "    obj = r0*((A[0][0] + A[1][0])/np.sqrt(2) - B[0][0]) + r1*((A[0][0] - A[1][0])/np.sqrt(2) - B[1][0]) + (A[0][0]*B[0][0] + A[1][0]*B[0][0] + A[0][0]*B[1][0] - A[1][0]*B[1][0])/(2*np.sqrt(2))\n",
    "\n",
    "    def get_extra_monomials(level):\n",
    "        \"\"\"\n",
    "        Generate extra monomials for a given level string such as:\n",
    "        'AA', 'BB', 'AB', 'AAB', 'ABB', 'AA+BB+AB+AAB+ABB', etc.\n",
    "        \"\"\"\n",
    "        if level in [0, '0', None]:\n",
    "            return []\n",
    "\n",
    "        level_parts = level.split('+') if isinstance(level, str) else []\n",
    "        monos = []\n",
    "        Aflat = ncp.flatten(A)\n",
    "        Bflat = ncp.flatten(B)\n",
    "\n",
    "        if 'AA' in level_parts:\n",
    "            for a1 in Aflat:\n",
    "                for a2 in Aflat:\n",
    "                    monos.append(a1 * a2)\n",
    "\n",
    "        if 'BB' in level_parts:\n",
    "            for b1 in Bflat:\n",
    "                for b2 in Bflat:\n",
    "                    monos.append(b1 * b2)\n",
    "\n",
    "        if 'AB' in level_parts:\n",
    "            for a in Aflat:\n",
    "                for b in Bflat:\n",
    "                    monos.append(a * b)\n",
    "\n",
    "        if 'AAB' in level_parts:\n",
    "            for a1 in Aflat:\n",
    "                for a2 in Aflat:\n",
    "                    for b in Bflat:\n",
    "                        monos.append(a1 * a2 * b)\n",
    "\n",
    "        if 'ABB' in level_parts:\n",
    "            for a in Aflat:\n",
    "                for b1 in Bflat:\n",
    "                    for b2 in Bflat:\n",
    "                        monos.append(a * b1 * b2)\n",
    "\n",
    "        return monos[:]\n",
    "\n",
    "    extra_monos = get_extra_monomials(level)\n",
    "\n",
    "    # Create and solve SDP relaxation at fixed level=0\n",
    "    sdp = ncp.SdpRelaxation(ops, verbose=int(verbose), normalized=True, parallel=0)\n",
    "    sdp.get_relaxation(\n",
    "        level=0,\n",
    "        equalities=op_eqs[:],\n",
    "        inequalities=op_ineqs[:],\n",
    "        momentequalities=moment_eqs[:],\n",
    "        momentinequalities=moment_ineqs[:],\n",
    "        objective=-obj,\n",
    "        substitutions=subs,\n",
    "        extramonomials=extra_monos\n",
    "    )\n",
    "    sdp.solve(solver=\"mosek\")\n",
    "\n",
    "    return -sdp.primal, -sdp.dual, sdp.status"
   ]
  },
  {
   "cell_type": "code",
   "execution_count": null,
   "id": "ece8ed71",
   "metadata": {},
   "outputs": [],
   "source": [
    "r0 = 1 - 1/np.sqrt(2)\n",
    "r1 = 0\n",
    "\n",
    "for lvl in [0, 'AA', 'BB', 'AB', 'BB+AB', 'ABB', 'AAB', 'AB+ABB', 'BB+AB+ABB']:\n",
    "    p, d, s = test_point_quantum_bound(r0, r1, level=lvl)\n",
    "    print(f\"Level {lvl}: primal = {p:.10f}, dual = {d:.10f}, status = {s}\")"
   ]
  },
  {
   "cell_type": "markdown",
   "id": "1d1b6fc3",
   "metadata": {},
   "source": [
    "## Extracting the certificate at $T_{1+A+B+AB+ABB}$"
   ]
  },
  {
   "cell_type": "markdown",
   "id": "bc8cdd1b",
   "metadata": {},
   "source": [
    "We are able to reach $\\beta_T$ at this level of the hierarchy."
   ]
  },
  {
   "cell_type": "code",
   "execution_count": 2,
   "id": "ea931ef4",
   "metadata": {},
   "outputs": [
    {
     "name": "stdout",
     "output_type": "stream",
     "text": [
      "1.00000000835675 0.9999999939876847 optimal\n"
     ]
    }
   ],
   "source": [
    "def get_extra_monomials():\n",
    "    \"\"\"\n",
    "    Returns additional monomials to add to sdp relaxation.\n",
    "    \"\"\"\n",
    "\n",
    "    monos = []\n",
    "\n",
    "    Aflat = ncp.flatten(A)\n",
    "    Bflat = ncp.flatten(B)\n",
    "    \n",
    "    # AB\n",
    "    for a in Aflat:\n",
    "        for b in Bflat:\n",
    "            monos += [a*b]\n",
    "\n",
    "    # ABB\n",
    "    for a in Aflat:\n",
    "        for b in Bflat:\n",
    "            for b2 in Bflat:\n",
    "                monos += [a*b*b2]\n",
    "    \n",
    "    return monos[:]\n",
    "\n",
    "moment_ineqs = []                      # moment inequalities\n",
    "moment_eqs = []                        # moment equalities\n",
    "op_eqs = []                            # operator equalities\n",
    "op_ineqs = []                          # operator inequalities\n",
    "extra_monos = get_extra_monomials()   # extra monomials\n",
    "\n",
    "\n",
    "r0 = 1 - 1/np.sqrt(2) # p1 = r0\n",
    "r1 = 0 # p4 = 1/2 r1\n",
    "\n",
    "obj = r0*((A[0][0] + A[1][0])/np.sqrt(2) - B[0][0]) + r1*((A[0][0] - A[1][0])/np.sqrt(2) - B[1][0]) + (A[0][0]*B[0][0] + A[1][0]*B[0][0] + A[0][0]*B[1][0] - A[1][0]*B[1][0])/(2*np.sqrt(2))\n",
    "\n",
    "sdp = ncp.SdpRelaxation(ops, verbose=0, normalized=True, parallel=0)\n",
    "sdp.get_relaxation(\n",
    "    level=0,\n",
    "    equalities = op_eqs[:],\n",
    "    inequalities = op_ineqs[:],\n",
    "    momentequalities = moment_eqs[:],\n",
    "    momentinequalities = moment_ineqs[:],\n",
    "    objective=-obj,\n",
    "    substitutions = subs,\n",
    "    extramonomials = extra_monos\n",
    ")\n",
    "sdp.solve(solver=\"mosek\")\n",
    "\n",
    "if sdp.primal is not None and sdp.dual is not None:\n",
    "    print(-sdp.primal, -sdp.dual, sdp.status)\n",
    "else:\n",
    "    print(\"Solver did not return a solution. Status:\", sdp.status)"
   ]
  },
  {
   "cell_type": "code",
   "execution_count": 43,
   "id": "f01fead5",
   "metadata": {},
   "outputs": [
    {
     "name": "stdout",
     "output_type": "stream",
     "text": [
      "1.0000000118213126 0.9999999956859023 optimal\n"
     ]
    }
   ],
   "source": [
    "def get_extra_monomials():\n",
    "    \"\"\"\n",
    "    Returns additional monomials to add to sdp relaxation.\n",
    "    \"\"\"\n",
    "\n",
    "    #monos = [A0**2, A0, A1, B0, A0*B0, A1*B0, A0*A1*B0, A1*A0*B0, B1, A0*B1, A1*B1, A0*A1*B1, A1*A0*B1]\n",
    "    monos = [A0**2, B0, B1, A0, B0*A0, B1*A0, B0*B1*A0, B1*B0*A0, A1, B0*A1, B1*A1, B0*B1*A1, B1*B0*A1]\n",
    "    #Aflat = ncp.flatten(A)\n",
    "    #Bflat = ncp.flatten(B)\n",
    "\n",
    "    #monos += Aflat + Bflat  # Include all base monomials\n",
    "    '''\n",
    "    # AB\n",
    "    for a in Aflat:\n",
    "        for b in Bflat:\n",
    "            monos += [a*b]\n",
    "\n",
    "    # ABB\n",
    "    for a in Aflat:\n",
    "        for b in Bflat:\n",
    "            for b2 in Bflat:\n",
    "                monos += [a*b*b2]\n",
    "    '''\n",
    "    return monos[:]\n",
    "\n",
    "moment_ineqs = []                      # moment inequalities\n",
    "moment_eqs = [B0 + 1, B1 - 1]                        # moment equalities\n",
    "op_eqs = []                            # operator equalities\n",
    "op_ineqs = []                          # operator inequalities\n",
    "extra_monos = get_extra_monomials()   # extra monomials\n",
    "\n",
    "\n",
    "r0 = 1 - 1/np.sqrt(2) # p1 = r0\n",
    "r1 = 0 # p4 = 1/2 r1\n",
    "\n",
    "obj = r0*((A[0][0] + A[1][0])/np.sqrt(2) - B[0][0]) + r1*((A[0][0] - A[1][0])/np.sqrt(2) - B[1][0]) + (A[0][0]*B[0][0] + A[1][0]*B[0][0] + A[0][0]*B[1][0] - A[1][0]*B[1][0])/(2*np.sqrt(2))\n",
    "\n",
    "sdp = ncp.SdpRelaxation(ops, verbose=0, normalized=True, parallel=0)\n",
    "sdp.get_relaxation(\n",
    "    level=-1,\n",
    "    equalities = op_eqs[:],\n",
    "    inequalities = op_ineqs[:],\n",
    "    momentequalities = moment_eqs[:],\n",
    "    momentinequalities = moment_ineqs[:],\n",
    "    objective=-obj,\n",
    "    substitutions = subs,\n",
    "    extramonomials = extra_monos\n",
    ")\n",
    "sdp.solve(solver=\"mosek\")\n",
    "\n",
    "if sdp.primal is not None and sdp.dual is not None:\n",
    "    print(-sdp.primal, -sdp.dual, sdp.status)\n",
    "else:\n",
    "    print(\"Solver did not return a solution. Status:\", sdp.status)"
   ]
  },
  {
   "cell_type": "code",
   "execution_count": 44,
   "id": "ddb27ea7",
   "metadata": {},
   "outputs": [
    {
     "data": {
      "text/plain": [
       "[[A0**2,\n",
       "  B0,\n",
       "  B1,\n",
       "  A0,\n",
       "  B0*A0,\n",
       "  B1*A0,\n",
       "  B0*B1*A0,\n",
       "  B1*B0*A0,\n",
       "  A1,\n",
       "  B0*A1,\n",
       "  B1*A1,\n",
       "  B0*B1*A1,\n",
       "  B1*B0*A1]]"
      ]
     },
     "execution_count": 44,
     "metadata": {},
     "output_type": "execute_result"
    }
   ],
   "source": [
    "sdp.monomial_sets"
   ]
  },
  {
   "cell_type": "code",
   "execution_count": 48,
   "id": "699b296b",
   "metadata": {},
   "outputs": [
    {
     "name": "stdout",
     "output_type": "stream",
     "text": [
      "          0         1         2         3         4         5         6         7         8         9         10        11        12\n",
      "0   1.718885  0.842801 -0.828876 -0.060187 -0.107450 -0.056955 -0.008907 -0.009266 -0.033573 -0.042170  0.041519 -0.002570 -0.002974\n",
      "1   0.842801  1.018221  0.024868 -0.121196 -0.097418  0.012696 -0.068107  0.000000 -0.014670 -0.036124  0.003773  0.118767  0.000000\n",
      "2  -0.828876  0.024868  1.009545 -0.051715  0.005477  0.054051 -0.000000  0.051870  0.016491  0.001771 -0.033856  0.000000 -0.119936\n",
      "3  -0.060187 -0.121196 -0.051715  1.741808  0.890401 -0.876854 -0.006532 -0.013039 -0.013206 -0.011310  0.007219 -0.000734  0.002643\n",
      "4  -0.107450 -0.097418  0.005477  0.890401  1.744444  0.013839 -0.846909 -0.008472 -0.007502 -0.017762 -0.003701 -0.005638  0.001584\n",
      "5  -0.056955  0.012696  0.054051 -0.876854  0.013839  1.737956  0.001443  0.848784  0.007115 -0.004829 -0.016349  0.000723  0.013432\n",
      "6  -0.008907 -0.068107 -0.000000 -0.006532 -0.846909  0.001443  0.920188 -0.009620  0.002186 -0.008696 -0.000723  0.019703  0.000000\n",
      "7  -0.009266  0.000000  0.051870 -0.013039 -0.008472  0.848784 -0.009620  0.912653  0.004435 -0.001584  0.005381  0.000000  0.027613\n",
      "8  -0.033573 -0.014670  0.016491 -0.013206 -0.007502  0.007115  0.002186  0.004435  1.728413  0.891611 -0.879431 -0.022096 -0.012897\n",
      "9  -0.042170 -0.036124  0.001771 -0.011310 -0.017762 -0.004829 -0.008696 -0.001584  0.891611  1.733742  0.015857 -0.842373  0.008472\n",
      "10  0.041519  0.003773 -0.033856  0.007219 -0.003701 -0.016349 -0.000723  0.005381 -0.879431  0.015857  1.730005 -0.001443  0.842358\n",
      "11 -0.002570  0.118767  0.000000 -0.000734 -0.005638  0.000723  0.019703  0.000000 -0.022096 -0.842373 -0.001443  0.944634  0.009620\n",
      "12 -0.002974  0.000000 -0.119936  0.002643  0.001584  0.013432  0.000000  0.027613 -0.012897  0.008472  0.842358  0.009620  0.947410\n"
     ]
    }
   ],
   "source": [
    "Wmon = sdp.y_mat[0]\n",
    "df = pd.DataFrame(Wmon)\n",
    "print(df.to_string(float_format=\"{:.6f}\".format))\n",
    "np.savetxt(\"Wmon.csv\", Wmon, delimiter=\",\")"
   ]
  },
  {
   "cell_type": "code",
   "execution_count": 46,
   "id": "d9c8135d",
   "metadata": {},
   "outputs": [
    {
     "name": "stdout",
     "output_type": "stream",
     "text": [
      "          0         1         2         3         4         5         6         7         8         9         10        11        12\n",
      "0   1.000000 -1.000000  1.000000  1.000000 -1.000000  1.000000 -1.000000 -1.000000 -1.000000  1.000000 -1.000000  1.000000  1.000000\n",
      "1  -1.000000  1.000000 -1.000000 -1.000000  1.000000 -1.000000  1.000000  1.000000  1.000000 -1.000000  1.000000 -1.000000 -1.000000\n",
      "2   1.000000 -1.000000  1.000000  1.000000 -1.000000  1.000000 -1.000000 -1.000000 -1.000000  1.000000 -1.000000  1.000000  1.000000\n",
      "3   1.000000 -1.000000  1.000000  1.000000 -1.000000  1.000000 -1.000000 -1.000000 -1.000000  1.000000 -1.000000  1.000000  1.000000\n",
      "4  -1.000000  1.000000 -1.000000 -1.000000  1.000000 -1.000000  1.000000  1.000000  1.000000 -1.000000  1.000000 -1.000000 -1.000000\n",
      "5   1.000000 -1.000000  1.000000  1.000000 -1.000000  1.000000 -1.000000 -1.000000 -1.000000  1.000000 -1.000000  1.000000  1.000000\n",
      "6  -1.000000  1.000000 -1.000000 -1.000000  1.000000 -1.000000  1.000000  1.000000  1.000000 -1.000000  1.000000 -1.000000 -1.000000\n",
      "7  -1.000000  1.000000 -1.000000 -1.000000  1.000000 -1.000000  1.000000  1.000000  1.000000 -1.000000  1.000000 -1.000000 -1.000000\n",
      "8  -1.000000  1.000000 -1.000000 -1.000000  1.000000 -1.000000  1.000000  1.000000  1.000000 -1.000000  1.000000 -1.000000 -1.000000\n",
      "9   1.000000 -1.000000  1.000000  1.000000 -1.000000  1.000000 -1.000000 -1.000000 -1.000000  1.000000 -1.000000  1.000000  1.000000\n",
      "10 -1.000000  1.000000 -1.000000 -1.000000  1.000000 -1.000000  1.000000  1.000000  1.000000 -1.000000  1.000000 -1.000000 -1.000000\n",
      "11  1.000000 -1.000000  1.000000  1.000000 -1.000000  1.000000 -1.000000 -1.000000 -1.000000  1.000000 -1.000000  1.000000  1.000000\n",
      "12  1.000000 -1.000000  1.000000  1.000000 -1.000000  1.000000 -1.000000 -1.000000 -1.000000  1.000000 -1.000000  1.000000  1.000000\n"
     ]
    }
   ],
   "source": [
    "Gammamon = sdp.x_mat[0]\n",
    "df = pd.DataFrame(Gammamon)\n",
    "print(df.to_string(float_format=\"{:.6f}\".format))\n",
    "#np.savetxt(\"Wmon.csv\", Wmon, delimiter=\",\")"
   ]
  },
  {
   "cell_type": "code",
   "execution_count": null,
   "id": "0c9f6330",
   "metadata": {},
   "outputs": [],
   "source": [
    "sos_mon = sdp.get_sos_decomposition()\n",
    "print(\"SOS decomposition in the monomial basis: \", sos_mon)"
   ]
  },
  {
   "cell_type": "markdown",
   "id": "cab28c73",
   "metadata": {},
   "source": [
    "**Remark:** This expression for the SOS decomposition does not seem to take into account the properties of the operators we defined. It's better to not use it!"
   ]
  },
  {
   "cell_type": "code",
   "execution_count": null,
   "id": "3746c765",
   "metadata": {},
   "outputs": [],
   "source": [
    "sdp.monomial_sets[0]"
   ]
  }
 ],
 "metadata": {
  "kernelspec": {
   "display_name": "quantum",
   "language": "python",
   "name": "python3"
  },
  "language_info": {
   "codemirror_mode": {
    "name": "ipython",
    "version": 3
   },
   "file_extension": ".py",
   "mimetype": "text/x-python",
   "name": "python",
   "nbconvert_exporter": "python",
   "pygments_lexer": "ipython3",
   "version": "3.13.2"
  }
 },
 "nbformat": 4,
 "nbformat_minor": 5
}
