{
 "cells": [
  {
   "cell_type": "markdown",
   "id": "b41a6dde",
   "metadata": {},
   "source": [
    "# Numerical SOS decomposition for $\\beta_T$"
   ]
  },
  {
   "cell_type": "markdown",
   "id": "f35673a2",
   "metadata": {},
   "source": [
    "## Preliminaries"
   ]
  },
  {
   "cell_type": "code",
   "execution_count": 1,
   "id": "e51f0ba6",
   "metadata": {},
   "outputs": [],
   "source": [
    "import numpy as np\n",
    "import matplotlib.pyplot as plt\n",
    "import ncpol2sdpa as ncp\n",
    "import pandas as pd\n",
    "\n",
    "# Define quantum operators\n",
    "A_config = [2,2]\n",
    "B_config = [2,2]\n",
    "\n",
    "# Operators in problem\n",
    "A = [Ai for Ai in ncp.generate_measurements(A_config, 'A')]\n",
    "B = [Bj for Bj in ncp.generate_measurements(B_config, 'B')]\n",
    "\n",
    "ops = ncp.flatten([A,B])        # Base monomials involved in problem\n",
    "subs = {}\n",
    "\n",
    "# 1. Unitarity: A^2 = 1\n",
    "for op in ops:\n",
    "    subs[op**2] = 1\n",
    "\n",
    "# 2. Commutation: force a canonical ordering B*A → A*B\n",
    "for Ai in ncp.flatten(A):\n",
    "    for Bj in ncp.flatten(B):\n",
    "        subs[Bj * Ai] = Ai * Bj\n",
    "\n",
    "A0 = A[0][0]\n",
    "A1 = A[1][0]\n",
    "B0 = B[0][0]\n",
    "B1 = B[1][0]"
   ]
  },
  {
   "cell_type": "markdown",
   "id": "9cfdaa55",
   "metadata": {},
   "source": [
    "## Testing Victor's Bell expressions at different levels of the hierarchy"
   ]
  },
  {
   "cell_type": "code",
   "execution_count": 3,
   "id": "e0f32328",
   "metadata": {},
   "outputs": [],
   "source": [
    "def test_point_quantum_bound(r0, r1, level=0, verbose=False):\n",
    "    \"\"\"\n",
    "    Tests whether a point (parametrized by theta, r0 = p1, r1 = 2*p4) is quantum-realizable\n",
    "    by solving the associated SDP relaxation at level 0 with different sets of monomials.\n",
    "\n",
    "    Parameters:\n",
    "    -----------\n",
    "    theta : float\n",
    "        The measurement angle θ in radians.\n",
    "    r0 : float\n",
    "        Parameter such that p1 = r0.\n",
    "    r1 : float\n",
    "        Parameter such that p4 = 0.5 * r1.\n",
    "    level : str or int\n",
    "        Level of the relaxation: 0, 'AB', 'ABB', or 'AAB'.\n",
    "    solver : str\n",
    "        SDP solver to use (e.g., \"mosek\", \"cvxopt\", \"sdpa\").\n",
    "    verbose : bool\n",
    "        Whether to print verbose SDP solver output.\n",
    "\n",
    "    Returns:\n",
    "    --------\n",
    "    primal : float\n",
    "        The negative primal bound.\n",
    "    dual : float\n",
    "        The negative dual bound.\n",
    "    status : str\n",
    "        The solver status string.\n",
    "    \"\"\"\n",
    "\n",
    "    obj = r0*((A[0][0] + A[1][0])/np.sqrt(2) - B[0][0]) + r1*((A[0][0] - A[1][0])/np.sqrt(2) - B[1][0]) + (A[0][0]*B[0][0] + A[1][0]*B[0][0] + A[0][0]*B[1][0] - A[1][0]*B[1][0])/(2*np.sqrt(2))\n",
    "\n",
    "    def get_extra_monomials(level):\n",
    "        \"\"\"\n",
    "        Generate extra monomials for a given level string such as:\n",
    "        'AA', 'BB', 'AB', 'AAB', 'ABB', 'AA+BB+AB+AAB+ABB', etc.\n",
    "        \"\"\"\n",
    "        if level in [0, '0', None]:\n",
    "            return []\n",
    "\n",
    "        level_parts = level.split('+') if isinstance(level, str) else []\n",
    "        monos = []\n",
    "        Aflat = ncp.flatten(A)\n",
    "        Bflat = ncp.flatten(B)\n",
    "\n",
    "        if 'AA' in level_parts:\n",
    "            for a1 in Aflat:\n",
    "                for a2 in Aflat:\n",
    "                    monos.append(a1 * a2)\n",
    "\n",
    "        if 'BB' in level_parts:\n",
    "            for b1 in Bflat:\n",
    "                for b2 in Bflat:\n",
    "                    monos.append(b1 * b2)\n",
    "\n",
    "        if 'AB' in level_parts:\n",
    "            for a in Aflat:\n",
    "                for b in Bflat:\n",
    "                    monos.append(a * b)\n",
    "\n",
    "        if 'AAB' in level_parts:\n",
    "            for a1 in Aflat:\n",
    "                for a2 in Aflat:\n",
    "                    for b in Bflat:\n",
    "                        monos.append(a1 * a2 * b)\n",
    "\n",
    "        if 'ABB' in level_parts:\n",
    "            for a in Aflat:\n",
    "                for b1 in Bflat:\n",
    "                    for b2 in Bflat:\n",
    "                        monos.append(a * b1 * b2)\n",
    "\n",
    "        return monos[:]\n",
    "\n",
    "    op_eqs = []\n",
    "    op_ineqs = []\n",
    "    moment_eqs = []\n",
    "    moment_ineqs = []\n",
    "    extra_monos = get_extra_monomials(level)\n",
    "\n",
    "    # Create and solve SDP relaxation at fixed level=0\n",
    "    sdp = ncp.SdpRelaxation(ops, verbose=int(verbose), normalized=True, parallel=0)\n",
    "    sdp.get_relaxation(\n",
    "        level=0,\n",
    "        equalities= op_eqs[:],\n",
    "        inequalities= op_ineqs[:],\n",
    "        momentequalities= moment_eqs[:],\n",
    "        momentinequalities=moment_ineqs[:],\n",
    "        objective=-obj,\n",
    "        substitutions=subs,\n",
    "        extramonomials=extra_monos\n",
    "    )\n",
    "    sdp.solve(solver=\"mosek\")\n",
    "\n",
    "    return -sdp.primal, -sdp.dual, sdp.status"
   ]
  },
  {
   "cell_type": "code",
   "execution_count": 4,
   "id": "ece8ed71",
   "metadata": {},
   "outputs": [
    {
     "name": "stdout",
     "output_type": "stream",
     "text": [
      "Level 0: primal = 1.0857864377, dual = 1.0857864365, status = optimal\n",
      "Level AA: primal = 1.0857864379, dual = 1.0857864367, status = optimal\n",
      "Level BB: primal = 1.0857864383, dual = 1.0857864346, status = optimal\n",
      "Level AB: primal = 1.0091153569, dual = 1.0091153431, status = optimal\n",
      "Level BB+AB: primal = 1.0091153531, dual = 1.0091153512, status = optimal\n",
      "Level ABB: primal = 1.0857864420, dual = 1.0857864355, status = optimal\n",
      "Level AAB: primal = 1.0828606998, dual = 1.0828606844, status = optimal\n",
      "Level AB+ABB: primal = 1.0000000084, dual = 0.9999999940, status = optimal\n",
      "Level BB+AB+ABB: primal = 1.0000000014, dual = 0.9999999990, status = optimal\n"
     ]
    }
   ],
   "source": [
    "r0 = 1 - 1/np.sqrt(2)\n",
    "r1 = 0\n",
    "\n",
    "for lvl in [0, 'AA', 'BB', 'AB', 'BB+AB', 'ABB', 'AAB', 'AB+ABB', 'BB+AB+ABB']:\n",
    "    p, d, s = test_point_quantum_bound(r0, r1, level=lvl)\n",
    "    print(f\"Level {lvl}: primal = {p:.10f}, dual = {d:.10f}, status = {s}\")"
   ]
  },
  {
   "cell_type": "markdown",
   "id": "1d1b6fc3",
   "metadata": {},
   "source": [
    "## Extracting the certificate at $T_{1+A+B+AB+ABB}$"
   ]
  },
  {
   "cell_type": "markdown",
   "id": "bc8cdd1b",
   "metadata": {},
   "source": [
    "We are able to reach $\\beta_T$ at this level of the hierarchy."
   ]
  },
  {
   "cell_type": "code",
   "execution_count": 10,
   "id": "ea931ef4",
   "metadata": {},
   "outputs": [
    {
     "name": "stdout",
     "output_type": "stream",
     "text": [
      "1.0000000113173735 0.99999999581288 optimal\n"
     ]
    }
   ],
   "source": [
    "def get_extra_monomials():\n",
    "    \"\"\"\n",
    "    Returns additional monomials to add to sdp relaxation.\n",
    "    \"\"\"\n",
    "\n",
    "    monos = []\n",
    "\n",
    "    Aflat = ncp.flatten(A)\n",
    "    Bflat = ncp.flatten(B)\n",
    "    \n",
    "    # AB\n",
    "    for a in Aflat:\n",
    "        for b in Bflat:\n",
    "            monos += [a*b]\n",
    "\n",
    "    # ABB\n",
    "    for a in Aflat:\n",
    "        for b in Bflat:\n",
    "            for b2 in Bflat:\n",
    "                monos += [a*b*b2]\n",
    "    \n",
    "    return monos[:]\n",
    "\n",
    "moment_ineqs = []                      # moment inequalities\n",
    "moment_eqs = [B0 + 1, B1 - 1]          # moment equalities\n",
    "op_eqs = []                            # operator equalities\n",
    "op_ineqs = []                          # operator inequalities\n",
    "extra_monos = get_extra_monomials()    # extra monomials\n",
    "\n",
    "\n",
    "r0 = 1 - 1/np.sqrt(2) # p1 = r0\n",
    "r1 = 0 # p4 = 1/2 r1\n",
    "\n",
    "obj = r0*((A[0][0] + A[1][0])/np.sqrt(2) - B[0][0]) + r1*((A[0][0] - A[1][0])/np.sqrt(2) - B[1][0]) + (A[0][0]*B[0][0] + A[1][0]*B[0][0] + A[0][0]*B[1][0] - A[1][0]*B[1][0])/(2*np.sqrt(2))\n",
    "\n",
    "sdp = ncp.SdpRelaxation(ops, verbose=0, normalized=True, parallel=0)\n",
    "sdp.get_relaxation(\n",
    "    level=0,\n",
    "    equalities = op_eqs[:],\n",
    "    inequalities = op_ineqs[:],\n",
    "    momentequalities = moment_eqs[:],\n",
    "    momentinequalities = moment_ineqs[:],\n",
    "    objective=-obj,\n",
    "    substitutions = subs,\n",
    "    extramonomials = extra_monos\n",
    ")\n",
    "sdp.solve(solver=\"mosek\")\n",
    "\n",
    "if sdp.primal is not None and sdp.dual is not None:\n",
    "    print(-sdp.primal, -sdp.dual, sdp.status)\n",
    "else:\n",
    "    print(\"Solver did not return a solution. Status:\", sdp.status)"
   ]
  },
  {
   "cell_type": "code",
   "execution_count": 11,
   "id": "29207c11",
   "metadata": {},
   "outputs": [
    {
     "name": "stdout",
     "output_type": "stream",
     "text": [
      "          0         1         2         3         4         5         6         7         8         9         10        11        12\n",
      "0   1.000000  1.000000 -1.000000 -1.000000  1.000000 -1.000000  1.000000  1.000000 -1.000000 -1.000000 -1.000000  1.000000  1.000000\n",
      "1   1.000000  1.000000 -1.000000 -1.000000  1.000000 -1.000000  1.000000  1.000000 -1.000000 -1.000000 -1.000000  1.000000  1.000000\n",
      "2  -1.000000 -1.000000  1.000000  1.000000 -1.000000  1.000000 -1.000000 -1.000000  1.000000  1.000000  1.000000 -1.000000 -1.000000\n",
      "3  -1.000000 -1.000000  1.000000  1.000000 -1.000000  1.000000 -1.000000 -1.000000  1.000000  1.000000  1.000000 -1.000000 -1.000000\n",
      "4   1.000000  1.000000 -1.000000 -1.000000  1.000000 -1.000000  1.000000  1.000000 -1.000000 -1.000000 -1.000000  1.000000  1.000000\n",
      "5  -1.000000 -1.000000  1.000000  1.000000 -1.000000  1.000000 -1.000000 -1.000000  1.000000  1.000000  1.000000 -1.000000 -1.000000\n",
      "6   1.000000  1.000000 -1.000000 -1.000000  1.000000 -1.000000  1.000000  1.000000 -1.000000 -1.000000 -1.000000  1.000000  1.000000\n",
      "7   1.000000  1.000000 -1.000000 -1.000000  1.000000 -1.000000  1.000000  1.000000 -1.000000 -1.000000 -1.000000  1.000000  1.000000\n",
      "8  -1.000000 -1.000000  1.000000  1.000000 -1.000000  1.000000 -1.000000 -1.000000  1.000000  1.000000  1.000000 -1.000000 -1.000000\n",
      "9  -1.000000 -1.000000  1.000000  1.000000 -1.000000  1.000000 -1.000000 -1.000000  1.000000  1.000000  1.000000 -1.000000 -1.000000\n",
      "10 -1.000000 -1.000000  1.000000  1.000000 -1.000000  1.000000 -1.000000 -1.000000  1.000000  1.000000  1.000000 -1.000000 -1.000000\n",
      "11  1.000000  1.000000 -1.000000 -1.000000  1.000000 -1.000000  1.000000  1.000000 -1.000000 -1.000000 -1.000000  1.000000  1.000000\n",
      "12  1.000000  1.000000 -1.000000 -1.000000  1.000000 -1.000000  1.000000  1.000000 -1.000000 -1.000000 -1.000000  1.000000  1.000000\n"
     ]
    }
   ],
   "source": [
    "Gammamon = sdp.x_mat[0]\n",
    "df = pd.DataFrame(Gammamon)\n",
    "print(df.to_string(float_format=\"{:.6f}\".format))"
   ]
  },
  {
   "cell_type": "code",
   "execution_count": 12,
   "id": "3005e8e4",
   "metadata": {},
   "outputs": [
    {
     "name": "stdout",
     "output_type": "stream",
     "text": [
      "          0         1         2         3         4         5         6         7         8         9         10        11        12\n",
      "0   1.719284 -0.060191 -0.033566  0.843001 -0.829079 -0.107454 -0.056954 -0.042167  0.041516 -0.008910 -0.009267 -0.002571 -0.002974\n",
      "1  -0.060191  1.742217 -0.013208 -0.121204 -0.051712  0.890611 -0.877065 -0.011313  0.007222 -0.006537 -0.013044 -0.000735  0.002644\n",
      "2  -0.033566 -0.013208  1.728823 -0.014660  0.016481 -0.007504  0.007117  0.891826 -0.879644  0.002187  0.004436 -0.022100 -0.012898\n",
      "3   0.843001 -0.121204 -0.014660  1.018432  0.024879 -0.097422  0.012698 -0.036128  0.003773 -0.068110 -0.000000  0.118780  0.000000\n",
      "4  -0.829079 -0.051712  0.016481  0.024879  1.009761  0.005479  0.054059  0.001771 -0.033859  0.000000  0.051881  0.000000 -0.119950\n",
      "5  -0.107454  0.890611 -0.007504 -0.097422  0.005479  1.744857  0.013840 -0.017766 -0.003701 -0.847113 -0.008473 -0.005642  0.001585\n",
      "6  -0.056954 -0.877065  0.007117  0.012698  0.054059  0.013840  1.738368 -0.004831 -0.016349  0.001443  0.848987  0.000724  0.013432\n",
      "7  -0.042167 -0.011313  0.891826 -0.036128  0.001771 -0.017766 -0.004831  1.734154  0.015861 -0.008697 -0.001585 -0.842577  0.008473\n",
      "8   0.041516  0.007222 -0.879644  0.003773 -0.033859 -0.003701 -0.016349  0.015861  1.730415 -0.000724  0.005385 -0.001443  0.842561\n",
      "9  -0.008910 -0.006537  0.002187 -0.068110  0.000000 -0.847113  0.001443 -0.008697 -0.000724  0.920394 -0.009622  0.019709  0.000000\n",
      "10 -0.009267 -0.013044  0.004436 -0.000000  0.051881 -0.008473  0.848987 -0.001585  0.005385 -0.009622  0.912860  0.000000  0.027614\n",
      "11 -0.002571 -0.000735 -0.022100  0.118780  0.000000 -0.005642  0.000724 -0.842577 -0.001443  0.019709  0.000000  0.944848  0.009622\n",
      "12 -0.002974  0.002644 -0.012898  0.000000 -0.119950  0.001585  0.013432  0.008473  0.842561  0.000000  0.027614  0.009622  0.947623\n"
     ]
    }
   ],
   "source": [
    "Wmon = sdp.y_mat[0]\n",
    "df = pd.DataFrame(Wmon)\n",
    "print(df.to_string(float_format=\"{:.6f}\".format))\n",
    "np.savetxt(\"Wmon.csv\", Wmon, delimiter=\",\")"
   ]
  },
  {
   "cell_type": "markdown",
   "id": "89725119",
   "metadata": {},
   "source": [
    "## Checking complementary slackness"
   ]
  },
  {
   "cell_type": "code",
   "execution_count": 13,
   "id": "486fcf5c",
   "metadata": {},
   "outputs": [
    {
     "name": "stdout",
     "output_type": "stream",
     "text": [
      "          0         1         2         3         4         5         6         7         8         9         10        11        12\n",
      "0   0.000029  0.000004  0.000014  0.000014 -0.000010  0.000009 -0.000004 -0.000001  0.000002 -0.000005  0.000000  0.000008  0.000009\n",
      "1   0.000029  0.000004  0.000014  0.000014 -0.000010  0.000009 -0.000004 -0.000001  0.000002 -0.000005  0.000000  0.000008  0.000009\n",
      "2  -0.000029 -0.000004 -0.000014 -0.000014  0.000010 -0.000009  0.000004  0.000001 -0.000002  0.000005 -0.000000 -0.000008 -0.000009\n",
      "3  -0.000029 -0.000004 -0.000014 -0.000014  0.000010 -0.000009  0.000004  0.000001 -0.000002  0.000005 -0.000000 -0.000008 -0.000009\n",
      "4   0.000029  0.000004  0.000014  0.000014 -0.000010  0.000009 -0.000004 -0.000001  0.000002 -0.000005  0.000000  0.000008  0.000009\n",
      "5  -0.000029 -0.000004 -0.000014 -0.000014  0.000010 -0.000009  0.000004  0.000001 -0.000002  0.000005 -0.000000 -0.000008 -0.000009\n",
      "6   0.000029  0.000004  0.000014  0.000014 -0.000010  0.000009 -0.000004 -0.000001  0.000002 -0.000005  0.000000  0.000008  0.000009\n",
      "7   0.000029  0.000004  0.000014  0.000014 -0.000010  0.000009 -0.000004 -0.000001  0.000002 -0.000005  0.000000  0.000008  0.000009\n",
      "8  -0.000029 -0.000004 -0.000014 -0.000014  0.000010 -0.000009  0.000004  0.000001 -0.000002  0.000005 -0.000000 -0.000008 -0.000009\n",
      "9  -0.000029 -0.000004 -0.000014 -0.000014  0.000010 -0.000009  0.000004  0.000001 -0.000002  0.000005 -0.000000 -0.000008 -0.000009\n",
      "10 -0.000029 -0.000004 -0.000014 -0.000014  0.000010 -0.000009  0.000004  0.000001 -0.000002  0.000005 -0.000000 -0.000008 -0.000009\n",
      "11  0.000029  0.000004  0.000014  0.000014 -0.000010  0.000009 -0.000004 -0.000001  0.000002 -0.000005  0.000000  0.000008  0.000009\n",
      "12  0.000029  0.000004  0.000014  0.000014 -0.000010  0.000009 -0.000004 -0.000001  0.000002 -0.000005  0.000000  0.000008  0.000009\n"
     ]
    }
   ],
   "source": [
    "Comp = Gammamon @ Wmon\n",
    "df = pd.DataFrame(Comp)\n",
    "print(df.to_string(float_format=\"{:.6f}\".format))"
   ]
  },
  {
   "cell_type": "markdown",
   "id": "33cd7a3d",
   "metadata": {},
   "source": [
    "Complementary slackness seems to be valid"
   ]
  },
  {
   "cell_type": "code",
   "execution_count": null,
   "id": "0c9f6330",
   "metadata": {},
   "outputs": [],
   "source": [
    "sos_mon = sdp.get_sos_decomposition()\n",
    "print(\"SOS decomposition in the monomial basis: \", sos_mon)"
   ]
  },
  {
   "cell_type": "markdown",
   "id": "cab28c73",
   "metadata": {},
   "source": [
    "**Remark:** This expression for the SOS decomposition does not seem to take into account the properties of the operators we defined. It's better to not use it!"
   ]
  }
 ],
 "metadata": {
  "kernelspec": {
   "display_name": "quantum",
   "language": "python",
   "name": "python3"
  },
  "language_info": {
   "codemirror_mode": {
    "name": "ipython",
    "version": 3
   },
   "file_extension": ".py",
   "mimetype": "text/x-python",
   "name": "python",
   "nbconvert_exporter": "python",
   "pygments_lexer": "ipython3",
   "version": "3.13.2"
  }
 },
 "nbformat": 4,
 "nbformat_minor": 5
}
