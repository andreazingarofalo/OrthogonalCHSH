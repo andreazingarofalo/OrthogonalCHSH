{
 "cells": [
  {
   "cell_type": "markdown",
   "metadata": {},
   "source": [
    "# NPA hierarchy"
   ]
  },
  {
   "cell_type": "markdown",
   "metadata": {},
   "source": [
    "The following code replicates the toy example from Pironio, S.; Navascués, M. & Acín, A. Convergent relaxations of polynomial optimization problems with noncommuting variables SIAM Journal on Optimization, SIAM, 2010, 20, 2157-2180."
   ]
  },
  {
   "cell_type": "markdown",
   "metadata": {},
   "source": [
    "## Defining a Polynomial Optimization Problem of Commuting Variables\n",
    "\n",
    "Consider the following polynomial optimization problem:\n",
    "\n",
    "$$\\min_{x \\in \\R^2}{2x_1 x_2}$$\n",
    "\n",
    "such that\n",
    "\n",
    "$$-x_2^2 + x_2 + 0.5 \\geq 0$$\n",
    "$$x_1^2 - x_1 = 0.$$\n",
    "\n",
    "The equality constraint is a simple projection. We either substitute it with two inequalities or treat the equality as a monomial substitution. The second option leads to a sparser SDP relaxation. The code samples below take this approach. In this case, the monomial basis is $\\{1,x_1, x_2, x_1x_2, x_{22}\\}$. The corresponding level-2 relaxation is written as\n",
    "\n",
    "$$\\min_{y}{2y_{12}}$$\n",
    "\n",
    "such that\n",
    "\n",
    "$$\\begin{pmatrix}\n",
    "1 & y_1 & y_2 & y_{12} & y_{22} \\\\\n",
    "y_1 & y_1 & y_{12} & y_{12} & y_{122} \\\\\n",
    "y_2 & y_{12} & y_{22} & y_{122} & y_{222} \\\\\n",
    "y_{12} & y_{12} & y_{122} & y_{122} & y_{1222} \\\\\n",
    "y_{22} & y_{122} & y_{222} & y_{1222} & y_{2222} \\\\\n",
    "\\end{pmatrix} \\succeq 0$$\n",
    "\n",
    "and\n",
    "\n",
    "$$\\begin{pmatrix}\n",
    "-y_{22} + y_2 + 0.5 & -y_{122} + y_{12} + 0.5y_1 & -y_{222}+ y_{22} +0.5y_{2} \\\\\n",
    "-y_{122} + y_{12} + 0.5y_1 & -y_{122} + y_{12} + 0.5y_1 & -y_{1222} + y_{122} + 0.5y_{12} \\\\\n",
    "-y_{222} + y_{22} + 0.5y_{2} & -y_{1222} + y_{122} + 0.5y_{12} & -y_{2222} + y_{222} + 0.5y_{22} \\\\\n",
    "\\end{pmatrix} \\succeq 0.$$\n",
    "\n",
    "Apart from the matrices being symmetric, notice other regular patterns between the elements – these are recognized in the relaxation and the same SDP variables are used for matching moments. To generate the relaxation, first we set up a few helper variables, including the symbolic variables used to define the polynomial objective function and constraint. The symbolic manipulations are based on SymPy.\n",
    "\n",
    "We start by importing the following libraries"
   ]
  },
  {
   "cell_type": "code",
   "execution_count": 1,
   "metadata": {},
   "outputs": [],
   "source": [
    "from ncpol2sdpa import *"
   ]
  },
  {
   "cell_type": "markdown",
   "metadata": {},
   "source": [
    "Then, we choose the level of the hierarchy and we generate variables"
   ]
  },
  {
   "cell_type": "code",
   "execution_count": 3,
   "metadata": {},
   "outputs": [],
   "source": [
    "n_vars = 2 # Number of variables\n",
    "level = 2  # Requested level of relaxation\n",
    "x = generate_variables('x', n_vars)"
   ]
  },
  {
   "cell_type": "markdown",
   "metadata": {},
   "source": [
    "By default, the generated variables are commutative. Alternatively, you can use standard SymPy symbols, but it is worth declaring them as real. With these variables, we can define the objective and the inequality constraint."
   ]
  },
  {
   "cell_type": "code",
   "execution_count": 4,
   "metadata": {},
   "outputs": [],
   "source": [
    "obj = x[0]*x[1] + x[1]*x[0] # objective function\n",
    "inequalities = [-x[1]**2 + x[1] + 0.5] # constraints (\\geq 0)"
   ]
  },
  {
   "cell_type": "markdown",
   "metadata": {},
   "source": [
    "The equality, as discussed, is entered as a substitution rule:"
   ]
  },
  {
   "cell_type": "code",
   "execution_count": 5,
   "metadata": {},
   "outputs": [],
   "source": [
    "substitutions = {x[0]**2 : x[0]}"
   ]
  },
  {
   "cell_type": "markdown",
   "metadata": {},
   "source": [
    "### Generating and Solving the Relaxation\n",
    "\n",
    "After we defined the problem, we need to initialize the SDP relaxation object with the variables, and request generating the relaxation given the constraints:"
   ]
  },
  {
   "cell_type": "code",
   "execution_count": 6,
   "metadata": {},
   "outputs": [],
   "source": [
    "sdp = SdpRelaxation(x)\n",
    "sdp.get_relaxation(level, objective=obj, inequalities=inequalities, substitutions=substitutions)"
   ]
  },
  {
   "cell_type": "markdown",
   "metadata": {},
   "source": [
    "For large problems, getting the relaxation can take a long time. Once we have the relaxation, we can try to solve it. \n",
    "\n",
    "Currently three solvers are supported fully: SDPA, MOSEK, and CVXOPT. If any of them are available, we obtain the solution by calling the solve method. If you have multiple solvers available, you might want to specify which exactly you want to use (CVXOPT also requires PICOS on top of it). "
   ]
  },
  {
   "cell_type": "code",
   "execution_count": 7,
   "metadata": {},
   "outputs": [
    {
     "name": "stdout",
     "output_type": "stream",
     "text": [
      "-0.7320508079547512 -0.7320508076316027 optimal\n"
     ]
    }
   ],
   "source": [
    "sdp.solve(solver='mosek')\n",
    "print(sdp.primal, sdp.dual, sdp.status)"
   ]
  },
  {
   "cell_type": "markdown",
   "metadata": {},
   "source": [
    "This gives a solution close to the optimum around -0.7321. The solution and some status information and the time it takes to solve it become part of the relaxation object.\n",
    "\n",
    "If no solver is detected, or you want more control over the parameters of the solver, or you want to solve the problem in MATLAB, you export the relaxation to SDPA format:"
   ]
  },
  {
   "cell_type": "code",
   "execution_count": 14,
   "metadata": {},
   "outputs": [],
   "source": [
    "sdp.write_to_file('example.dat-s')"
   ]
  },
  {
   "cell_type": "markdown",
   "metadata": {},
   "source": [
    "### Analyzing the solution"
   ]
  },
  {
   "cell_type": "markdown",
   "metadata": {},
   "source": [
    "We can study individual entries of the solution matrix by providing the monomial we are interested in. For example:"
   ]
  },
  {
   "cell_type": "code",
   "execution_count": 8,
   "metadata": {},
   "outputs": [
    {
     "data": {
      "text/plain": [
       "np.float64(-0.36602540380169407)"
      ]
     },
     "execution_count": 8,
     "metadata": {},
     "output_type": "execute_result"
    }
   ],
   "source": [
    "sdp[x[0]*x[1]]"
   ]
  },
  {
   "cell_type": "markdown",
   "metadata": {},
   "source": [
    "The sums-of-square (SOS) decomposition is extracted from the dual solution:"
   ]
  },
  {
   "cell_type": "code",
   "execution_count": 9,
   "metadata": {},
   "outputs": [],
   "source": [
    "sigma = sdp.get_sos_decomposition()"
   ]
  },
  {
   "cell_type": "markdown",
   "metadata": {},
   "source": [
    "If we solve the SDP with the arbitrary-precision solver sdpa_gmp, we can find a rank loop at level two, indicating that convergence has been achieved."
   ]
  },
  {
   "cell_type": "code",
   "execution_count": null,
   "metadata": {},
   "outputs": [],
   "source": [
    "sdp.solve(solver='sdpa', solverparameters={\"executable\":\"sdpa_gmp\",\"paramsfile\":\"params.gmp.sdpa\"})\n",
    "sdp.find_solution_ranks()"
   ]
  },
  {
   "cell_type": "markdown",
   "metadata": {},
   "source": [
    "The output for this problem is [2, 3], not showing a rank loop at this level of relaxation."
   ]
  },
  {
   "cell_type": "markdown",
   "metadata": {},
   "source": [
    "## Debugging the SDP relaxation\n",
    "\n",
    "It often happens that solving a relaxation does not yield the expected results. To help understand what goes wrong, Ncpol2sdpa provides a function to write the relaxation in a comma separated file, in which the individual cells contain the respective monomials. The first line of the file is the objective function."
   ]
  },
  {
   "cell_type": "code",
   "execution_count": 18,
   "metadata": {},
   "outputs": [],
   "source": [
    "sdp.write_to_file(\"examples.csv\")"
   ]
  },
  {
   "cell_type": "markdown",
   "metadata": {},
   "source": [
    "Furthermore, the library can write out which SDP variable corresponds to which monomial by calling"
   ]
  },
  {
   "cell_type": "code",
   "execution_count": 19,
   "metadata": {},
   "outputs": [],
   "source": [
    "sdp.save_monomial_index(\"monomials.txt\")"
   ]
  },
  {
   "cell_type": "markdown",
   "metadata": {},
   "source": [
    "## Defining and Solving an Optimization Problem of Noncommuting Variables\n",
    "\n",
    "Consider a slight variation of the problem discussed in the previous sections: change the algebra of the variables from commutative to Hermitian noncommutative, and use the following objective function:\n",
    "\n",
    "$$\\min_{x \\in \\R^2}{x_1 x_2 + x_2 x_1}.$$\n",
    "\n",
    "The constraints reamin identical:\n",
    "\n",
    "$$-x_2^2 + x_2 +0.5 \\geq 0$$\n",
    "$$x_1^2 - x_1 = 0.$$\n",
    "\n",
    "Defining the problem, generating the relaxation, and solving it follow a similar pattern, but we request operators instead of variables."
   ]
  },
  {
   "cell_type": "code",
   "execution_count": 11,
   "metadata": {},
   "outputs": [
    {
     "name": "stdout",
     "output_type": "stream",
     "text": [
      "-0.7499999993994902 -0.7499999936814759 optimal\n"
     ]
    }
   ],
   "source": [
    "# Generate a vector of noncommuting variables\n",
    "n_vars = 2\n",
    "X = generate_operators('X', n_vars, hermitian=True)\n",
    "\n",
    "# Define the objective, inequalities and substitutions\n",
    "obj_nc = X[0] * X[1] + X[1] * X[0]\n",
    "inequalities_nc = [-X[1] ** 2 + X[1] + 0.5]\n",
    "substitutions_nc = {X[0]**2 : X[0]}\n",
    "\n",
    "# Create the SDP relaxation\n",
    "sdp_nc = SdpRelaxation(X)\n",
    "\n",
    "# Get the relaxation\n",
    "sdp_nc.get_relaxation(level, objective=obj_nc, inequalities=inequalities_nc,substitutions=substitutions_nc)\n",
    "\n",
    "# Solve the SDP relaxation and print the results\n",
    "sdp_nc.solve(solver='mosek')\n",
    "print(sdp_nc.primal, sdp_nc.dual, sdp_nc.status)"
   ]
  },
  {
   "cell_type": "markdown",
   "metadata": {},
   "source": [
    "This gives a solution very close to the analytical -3/4. Let us export the problem again:"
   ]
  },
  {
   "cell_type": "code",
   "execution_count": 32,
   "metadata": {},
   "outputs": [],
   "source": [
    "sdp.write_to_file(\"examplenc.dat-s\")"
   ]
  },
  {
   "cell_type": "markdown",
   "metadata": {},
   "source": [
    "Solving this with the arbitrary-precision solver, we discover a rank loop:"
   ]
  },
  {
   "cell_type": "code",
   "execution_count": null,
   "metadata": {},
   "outputs": [],
   "source": [
    "sdp.solve(solver='sdpa', solverparameters={\"executable\":\"sdpa_gmp\",\"paramsfile\":\"params.gmp.sdpa\"})\n",
    "sdp.find_solution_ranks()"
   ]
  },
  {
   "cell_type": "markdown",
   "metadata": {},
   "source": [
    "The output is $[2, 2]$, indicating a rank loop and showing that the noncommutative case of the relaxation converges faster."
   ]
  }
 ],
 "metadata": {
  "kernelspec": {
   "display_name": "quantum",
   "language": "python",
   "name": "python3"
  },
  "language_info": {
   "codemirror_mode": {
    "name": "ipython",
    "version": 3
   },
   "file_extension": ".py",
   "mimetype": "text/x-python",
   "name": "python",
   "nbconvert_exporter": "python",
   "pygments_lexer": "ipython3",
   "version": "3.13.2"
  }
 },
 "nbformat": 4,
 "nbformat_minor": 2
}
