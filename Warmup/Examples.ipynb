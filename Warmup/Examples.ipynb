{
 "cells": [
  {
   "cell_type": "markdown",
   "metadata": {},
   "source": [
    "# Examples"
   ]
  },
  {
   "cell_type": "markdown",
   "metadata": {},
   "source": [
    "## Example 1"
   ]
  },
  {
   "cell_type": "markdown",
   "metadata": {},
   "source": [
    "This is a polynomial optimization problem of commutative variables mentioned in Section 5.12 of Henrion et. al (2009). We rely on NumPy to remove the equality constraints from the problem"
   ]
  },
  {
   "cell_type": "code",
   "execution_count": 1,
   "metadata": {},
   "outputs": [],
   "source": [
    "import numpy as np\n",
    "from ncpol2sdpa import *\n",
    "\n",
    "W = np.diag(np.ones(8), 1) + np.diag(np.ones(7), 2) + np.diag([1, 1], 7) + \\\n",
    "    np.diag([1], 8)\n",
    "W = W + W.T\n",
    "n = len(W)\n",
    "e = np.ones(n)\n",
    "Q = (np.diag(np.dot(e.T, W)) - W) / 4\n",
    "\n",
    "x = generate_variables('x', n)\n",
    "equalities = [xi ** 2 - 1 for xi in x]\n",
    "\n",
    "objective = -np.dot(x, np.dot(Q, np.transpose(x)))\n",
    "\n",
    "sdp = SdpRelaxation(x)\n",
    "sdp.get_relaxation(1, objective=objective, equalities=equalities,removeequalities=True)\n",
    "sdp.solve(solver='mosek')"
   ]
  },
  {
   "cell_type": "code",
   "execution_count": 2,
   "metadata": {},
   "outputs": [
    {
     "name": "stdout",
     "output_type": "stream",
     "text": [
      "-13.500000000958572 -13.499999997662677 optimal\n"
     ]
    }
   ],
   "source": [
    "print(sdp.primal, sdp.dual, sdp.status)"
   ]
  },
  {
   "cell_type": "markdown",
   "metadata": {},
   "source": [
    "## Example 2: Parametric Polynomial Optimization Problems\n",
    "\n",
    "In a parametric polynomial optimization problem, we can separate two sets of variables, and one set acts as a parameter to the problem. More formally, we would like to find the following function:\n",
    "\n",
    "$$J(x) = \\inf_{y \\in \\R^m}{\\{f(x,y) \\colon h_j(y) \\geq 0, j=1,\\dots,r\\}}$$\n",
    "\n",
    "where $x \\in X = \\{ x \\in \\R^n \\colon h_k(x) \\geq 0, k = r+1,\\dots,t\\}$. We can approximate $J(x)$ using the dual of an SDP relaxation. The following implements Example 4 from Lasserre (2010)."
   ]
  },
  {
   "cell_type": "code",
   "execution_count": 4,
   "metadata": {},
   "outputs": [
    {
     "data": {
      "image/png": "[encoded data removed]",
      "text/plain": [
       "<Figure size 640x480 with 1 Axes>"
      ]
     },
     "metadata": {},
     "output_type": "display_data"
    }
   ],
   "source": [
    "from math import sqrt\n",
    "from sympy import integrate, N\n",
    "import matplotlib.pyplot as plt\n",
    "\n",
    "def J(x):\n",
    "    return -2*abs(1-2*x)*sqrt(x/(1+x))\n",
    "\n",
    "def Jk(x, coeffs):\n",
    "    return sum(ci*x**i for i, ci in enumerate(coeffs))\n",
    "\n",
    "level = 4\n",
    "x = generate_variables('x')[0]\n",
    "y = generate_variables('y', 2)\n",
    "f = (1-2*x)*(y[0] + y[1])\n",
    "\n",
    "gamma = [integrate(x**i, (x, 0, 1)) for i in range(1, 2*level+1)]\n",
    "marginals = flatten([[x**i-N(gamma[i-1]), N(gamma[i-1])-x**i]\n",
    "                    for i in range(1, 2*level+1)])\n",
    "\n",
    "inequalities = [x*y[0]**2 + y[1]**2 - x,  - x*y[0]**2 - y[1]**2 + x,\n",
    "                y[0]**2 + x*y[1]**2 - x,  - y[0]**2 - x*y[1]**2 + x,\n",
    "                1-x, x]\n",
    "sdp = SdpRelaxation(flatten([x, y]))\n",
    "sdp.get_relaxation(level, objective=f, momentinequalities=marginals,\n",
    "                   inequalities=inequalities)\n",
    "sdp.solve(solver='mosek')\n",
    "coeffs = [sdp.extract_dual_value(0, range(len(inequalities)+1))]\n",
    "coeffs += [sdp.y_mat[len(inequalities)+1+2*i][0][0] - sdp.y_mat[len(inequalities)+1+2*i+1][0][0]\n",
    "           for i in range(len(marginals)//2)]\n",
    "\n",
    "x_domain = [i/100. for i in range(100)]\n",
    "plt.plot(x_domain, [J(xi) for xi in x_domain], linewidth=2.5)\n",
    "plt.plot(x_domain, [Jk(xi, coeffs) for xi in x_domain], linewidth=2.5)\n",
    "plt.show()"
   ]
  },
  {
   "cell_type": "markdown",
   "metadata": {},
   "source": [
    "## Example 3: Sparse Relaxation with Chordal Extension\n",
    "\n",
    "This method replicates the behaviour of SparsePOP (Waki et. al, 2008). The following is a simple example:"
   ]
  },
  {
   "cell_type": "code",
   "execution_count": 6,
   "metadata": {},
   "outputs": [
    {
     "name": "stdout",
     "output_type": "stream",
     "text": [
      "-2.2443697115014705 -2.2443697019845184\n"
     ]
    }
   ],
   "source": [
    "level = 2\n",
    "X = generate_variables('x', 3)\n",
    "\n",
    "obj = X[1] - 2*X[0]*X[1] + X[1]*X[2]\n",
    "inequalities = [1-X[0]**2-X[1]**2, 1-X[1]**2-X[2]**2]\n",
    "\n",
    "sdp = SdpRelaxation(X)\n",
    "sdp.get_relaxation(level, objective=obj, inequalities=inequalities,\n",
    "                   chordal_extension=True)\n",
    "sdp.solve(solver='mosek')\n",
    "print(sdp.primal, sdp.dual)"
   ]
  },
  {
   "cell_type": "markdown",
   "metadata": {},
   "source": [
    "## Example 4: Mixed-Level Relaxation of a Bell Inequality\n",
    "\n",
    "It is often the case that moving to a higher-order relaxation is computationally prohibitive. For these cases, it is possible to inject extra monomials to a lower level relaxation. We refer to this case as a mixed-level relaxation.\n",
    "\n",
    "As an example, we consider the CHSH inequality in the probability picture at level 1+AB relaxation. The lazy way of doing this is as follows:"
   ]
  },
  {
   "cell_type": "markdown",
   "metadata": {},
   "source": [
    "This will immediately give you the negative of the maximum violation. The function maximum_violation only works for two-party configuration, so for educational purposes, we spell out what goes on in the background. With level and $I$ defined as above, we create the measurements that will make up the probabilities, and define the objective function with the $I$ matrix."
   ]
  },
  {
   "cell_type": "code",
   "execution_count": 2,
   "metadata": {},
   "outputs": [],
   "source": [
    "I = [[ 0,   -1,    0 ],\n",
    "     [-1,    1,    1 ],\n",
    "     [ 0,    1,   -1 ]]\n",
    "level = 1\n",
    "P = Probability([2, 2], [2, 2])\n",
    "objective = define_objective_with_I(I, P)"
   ]
  },
  {
   "cell_type": "markdown",
   "metadata": {},
   "source": [
    "Unfortunately, the function define_objective_with_I only works for two parties again, which is not surprising, as it would be hard to define an I matrix for more than two parties. So if you have a multipartite scenario, you can use the probabilities to define your Bell inequality. For the CHSH, it is"
   ]
  },
  {
   "cell_type": "code",
   "execution_count": 3,
   "metadata": {},
   "outputs": [],
   "source": [
    "CHSH = -P([0],[0],'A') + P([0,0],[0,0])  + P([0,0],[0,1]) + P([0,0],[1,0]) - P([0,0],[1,1]) - P([0],[0],'B')"
   ]
  },
  {
   "cell_type": "markdown",
   "metadata": {},
   "source": [
    "Note that we can only minimize a function, so we have to flip the sign to get the same objective function as above:"
   ]
  },
  {
   "cell_type": "code",
   "execution_count": 4,
   "metadata": {},
   "outputs": [],
   "source": [
    "objective = -CHSH"
   ]
  },
  {
   "cell_type": "markdown",
   "metadata": {},
   "source": [
    "We need to generate the monomials we would like to add to the relaxation. This is aided by a helper function in the class Probability. We only need to provide the strings we would like to see – this time it is AB:"
   ]
  },
  {
   "cell_type": "code",
   "execution_count": 6,
   "metadata": {},
   "outputs": [
    {
     "name": "stdout",
     "output_type": "stream",
     "text": [
      "-0.2071067808121591\n"
     ]
    }
   ],
   "source": [
    "sdp = SdpRelaxation(P.get_all_operators())\n",
    "sdp.get_relaxation(level, objective=objective,\n",
    "                   substitutions=P.substitutions,\n",
    "                   extramonomials=P.get_extra_monomials('AB'))\n",
    "sdp.solve(solver='mosek')\n",
    "print(sdp.dual)"
   ]
  },
  {
   "cell_type": "markdown",
   "metadata": {},
   "source": [
    "## NPA hierarchy\n",
    "\n",
    "The following code replicates the toy example from Pironio, S.; Navascués, M. & Acín, A. Convergent relaxations of polynomial optimization problems with noncommuting variables SIAM Journal on Optimization, SIAM, 2010, 20, 2157-2180."
   ]
  },
  {
   "cell_type": "code",
   "execution_count": 14,
   "metadata": {},
   "outputs": [
    {
     "name": "stdout",
     "output_type": "stream",
     "text": [
      "-0.7499999993994902 -0.7499999936814759 optimal\n"
     ]
    }
   ],
   "source": [
    "from ncpol2sdpa import generate_operators, SdpRelaxation\n",
    "\n",
    "# Number of operators\n",
    "n_vars = 2\n",
    "# Level of relaxation\n",
    "level = 2\n",
    "\n",
    "# Get Hermitian operators\n",
    "X = generate_operators('X', n_vars, hermitian=True)\n",
    "\n",
    "# Define the objective function\n",
    "obj = X[0] * X[1] + X[1] * X[0]\n",
    "\n",
    "# Inequality constraints\n",
    "inequalities = [-X[1] ** 2 + X[1] + 0.5]\n",
    "\n",
    "# Simple monomial substitutions\n",
    "substitutions = {X[0]**2: X[0]}\n",
    "\n",
    "# Obtain SDP relaxation\n",
    "sdpRelaxation = SdpRelaxation(X)\n",
    "sdpRelaxation.get_relaxation(level, objective=obj, inequalities=inequalities,substitutions=substitutions)\n",
    "sdpRelaxation.solve(solver='mosek')\n",
    "print(sdpRelaxation.primal, sdpRelaxation.dual, sdpRelaxation.status)"
   ]
  },
  {
   "cell_type": "markdown",
   "metadata": {},
   "source": [
    "## References\n",
    "\n",
    "Bancal, J.D., L. Sheridan, and V. Scarani. 2014. “More Randomness from the Same Data.” New Journal of Physics 16 (3): 033011. doi:10.1088/1367-2630/16/3/033011.\n",
    "\n",
    "Fayngold, M., and V. Fayngold. 2013. Quantum Mechanics and Quantum Information. Wiley-VCH.\n",
    "\n",
    "Henrion, D., J. Lasserre and J. Löfberg. 2009. “GloptiPoly 3: Moments, Optimization and Semidefinite Programming.” Optimization Methods & Software, 24: 761–779.\n",
    "\n",
    "Johansson, J.R., P.D. Nation, and Franco Nori. 2013. “QuTiP 2: A Python Framework for the Dynamics of Open Quantum Systems.” Computer Physics Communications 184 (4): 1234–40. doi:10.1016/j.cpc.2012.11.019.\n",
    "\n",
    "Lasserre, J. B. 2010. “A Joint+Marginal Approach to Parametric Polynomial Optimization.” SIAM Journal on Optimization 20(4):1995–2022. doi:10.1137/090759240.\n",
    "\n",
    "Moroder, Tobias, Jean-Daniel Bancal, Yeong-Cherng Liang, Martin Hofmann, and Otfried Gühne. 2013. “Device-Independent Entanglement Quantification and Related Applications.” Physics Review Letters 111 (3). American Physical Society: 030501. doi:10.1103/PhysRevLett.111.030501.\n",
    "\n",
    "Navascués, M., A. García-Sáez, A. Acín, S. Pironio, and M.B. Plenio. 2013. “A Paradox in Bosonic Energy Computations via Semidefinite Programming Relaxations.” New Journal of Physics 15 (2): 023026. doi:10.1088/1367-2630/15/2/023026.\n",
    "\n",
    "Nieto-Silleras, O., S. Pironio, and J. Silman. 2014. “Using Complete Measurement Statistics for Optimal Device-Independent Randomness Evaluation.” New Journal of Physics 16 (1): 013035. doi:10.1088/1367-2630/16/1/013035.\n",
    "\n",
    "Pironio, S., M. Navascués, and A. Acín. 2010. “Convergent Relaxations of Polynomial Optimization Problems with Noncommuting Variables.” SIAM Journal on Optimization 20 (5). SIAM: 2157–80. doi:10.1137/090760155.\n",
    "\n",
    "Sturm, J.F. 1999. “Using SeDuMi 1.02, a MATLAB Toolbox for Optimization over Symmetric Cones.” Optimization Methods and Software 11 (1-4): 625–53.\n",
    "\n",
    "Waki, H.; S. Kim, M. Kojima, M. Muramatsu, and H. Sugimoto. 2008. “Algorithm 883: SparsePOP—A Sparse Semidefinite Programming Relaxation of Polynomial Optimization Problems.” ACM Transactions on Mathematical Software, 2008, 35(2), 15. doi:10.1145/1377612.1377619.\n",
    "\n",
    "Yamashita, M., K. Fujisawa, and M. Kojima. 2003. “SDPARA: Semidefinite Programming Algorithm Parallel Version.” Parallel Computing 29 (8): 1053–67."
   ]
  }
 ],
 "metadata": {
  "kernelspec": {
   "display_name": "quantum",
   "language": "python",
   "name": "python3"
  },
  "language_info": {
   "codemirror_mode": {
    "name": "ipython",
    "version": 3
   },
   "file_extension": ".py",
   "mimetype": "text/x-python",
   "name": "python",
   "nbconvert_exporter": "python",
   "pygments_lexer": "ipython3",
   "version": "3.13.2"
  }
 },
 "nbformat": 4,
 "nbformat_minor": 2
}
