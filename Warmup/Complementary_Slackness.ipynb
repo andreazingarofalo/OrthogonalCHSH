{
 "cells": [
  {
   "cell_type": "markdown",
   "id": "9fe473dc",
   "metadata": {},
   "source": [
    "# Complementary slackness"
   ]
  },
  {
   "cell_type": "markdown",
   "id": "53c44e11",
   "metadata": {},
   "source": [
    "The condition is called \"complementary slackness\". A rather generic definition is given in section 5.2.2 of the Boyd textbook (it also arises in linear programming), but more importantly, its impact for SDPs is described in Example 5.13.\n",
    "\n",
    "In short, this provides a set of equations that are satisfied by the optimal solution of an SDP and its dual: in the notation of Example 5.13, if the primal is\n",
    "\n",
    "  min c*x\n",
    "  s.t. F(x) = sum_i x_i F_i + G <= 0\n",
    "\n",
    "and the dual\n",
    "\n",
    "  max tr(G*Z)\n",
    "  s.t. tr(F_i*Z) + c_i = 0\n",
    "    Z >= 0\n",
    "\n",
    "then the optimal matrix solutions Fstar and Zstar span orthogonal vector spaces, in the sense that the product of both matrices\n",
    "\n",
    "  (Fstar) * (Zstar) = 0\n",
    "  1\n",
    "is the null matrix.\n",
    "\n",
    "I join here a short python example that illustrates this phenomenon with cvxpy. Note that the SDP data is chosen randomly in the script, so you can obtain other examples by removing the randomness seed setting, you may just need to try a few attempts because random problems may be either infeasible or unbounded.\n",
    "\n",
    "By the way, since you found a meaningful basis of indeterminates for your problem, it might be interesting to work with the SDP matrices in the basis formed by your nullifiers. If Gamma is your matrix in the monomial basis (1, A0, A1, B0, ...), you should be able to construct this matrix by simply performing a change of basis U*Gamma*U^\\dag. What is the structure of the matrix you obtain in this basis?"
   ]
  },
  {
   "cell_type": "code",
   "execution_count": 1,
   "id": "441ee8c2",
   "metadata": {},
   "outputs": [
    {
     "name": "stdout",
     "output_type": "stream",
     "text": [
      "These terms should be zero by complementary slackness:\n",
      "[[ 3.08020297e-05  3.83227322e-05  9.53845473e-05  8.13472439e-05]\n",
      " [-3.83056612e-05 -5.68507917e-05 -1.63427572e-04 -1.33061511e-04]\n",
      " [ 2.00545141e-05  1.77073194e-05  2.67941801e-05  2.78275075e-05]\n",
      " [-1.71328273e-05 -8.49235084e-06  9.45183203e-06 -7.49088160e-07]]\n"
     ]
    }
   ],
   "source": [
    "import cvxpy as cp\n",
    "import numpy as np\n",
    "\n",
    "# Problem size\n",
    "m = 4                                             # m x m matrices\n",
    "n = 5                                             # n scalar variables\n",
    "\n",
    "# A random seed that works\n",
    "np.random.seed(4)\n",
    "\n",
    "# Define the problem\n",
    "x = cp.Variable(n)                                # the variables\n",
    "c = np.random.randn(n,1)                          # coefficients of the objective function\n",
    "Fs = np.random.randn(m,m,n)\n",
    "Fs = (Fs + Fs.transpose((1,0,2)))/2               # matrices should be symmetric\n",
    "G = np.random.randn(m,m)\n",
    "G = (G + G.transpose())/2\n",
    "F = G + sum(x[i] * Fs[:, :, i] for i in range(n)) # the SDP matrix\n",
    "\n",
    "# Construct the SDP\n",
    "objective = cp.Minimize(c.transpose() @ x)\n",
    "constraints = [F << 0]\n",
    "prob = cp.Problem(objective, constraints)\n",
    "\n",
    "# We attempt to solve the SDP\n",
    "result = prob.solve()\n",
    "if prob.status != 'optimal':\n",
    "    print(prob.status + ', try again')\n",
    "else:\n",
    "    # The optimal value for x is stored in `x.value`.\n",
    "    #print(x.value)\n",
    "    # The optimal Lagrange multiplier for a constraint is stored in\n",
    "    # `constraint.dual_value`.\n",
    "    #print(constraints[0].dual_value)\n",
    "    \n",
    "    # We check the complementary slackness condition:\n",
    "    Z = constraints[0].dual_value                 # The dual SDP matrix\n",
    "    print('These terms should be zero by complementary slackness:')\n",
    "    print(F.value @ Z)\n"
   ]
  }
 ],
 "metadata": {
  "kernelspec": {
   "display_name": "quantum",
   "language": "python",
   "name": "python3"
  },
  "language_info": {
   "codemirror_mode": {
    "name": "ipython",
    "version": 3
   },
   "file_extension": ".py",
   "mimetype": "text/x-python",
   "name": "python",
   "nbconvert_exporter": "python",
   "pygments_lexer": "ipython3",
   "version": "3.13.2"
  }
 },
 "nbformat": 4,
 "nbformat_minor": 5
}
