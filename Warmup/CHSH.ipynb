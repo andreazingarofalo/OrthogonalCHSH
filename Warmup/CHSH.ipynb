{
 "cells": [
  {
   "cell_type": "markdown",
   "id": "4d657882",
   "metadata": {},
   "source": [
    "# Tsirelson bound for the CHSH inequality"
   ]
  },
  {
   "cell_type": "markdown",
   "id": "2b398ac8",
   "metadata": {},
   "source": [
    "We consider the CHSH inequality:\n",
    "\n",
    "$$S_\\text{CHSH} = \\langle A_0 B_0 \\rangle + \\langle A_0 B_1 \\rangle + \\langle A_1 B_0 \\rangle - \\langle A_1 B_1 \\rangle.$$\n",
    "\n"
   ]
  },
  {
   "cell_type": "markdown",
   "id": "1ab4e31d",
   "metadata": {},
   "source": [
    "We start by importing the following libraries"
   ]
  },
  {
   "cell_type": "code",
   "execution_count": 6,
   "id": "9f055ec1",
   "metadata": {},
   "outputs": [],
   "source": [
    "import numpy as np\n",
    "import ncpol2sdpa as ncp\n",
    "from ncpol2sdpa import *"
   ]
  },
  {
   "cell_type": "markdown",
   "id": "3cf31648",
   "metadata": {},
   "source": [
    "We define the settings and the operators"
   ]
  },
  {
   "cell_type": "code",
   "execution_count": 7,
   "id": "9820dbb0",
   "metadata": {},
   "outputs": [],
   "source": [
    "# for the other inputs, especially when you give a large NPA level).\n",
    "A_config = [2,2]\n",
    "B_config = [2,2]\n",
    "\n",
    "# Operators in problem\n",
    "A = [Ai for Ai in ncp.generate_measurements(A_config, 'A')]\n",
    "B = [Bj for Bj in ncp.generate_measurements(B_config, 'B')]"
   ]
  },
  {
   "cell_type": "markdown",
   "id": "83ad8586",
   "metadata": {},
   "source": [
    "We define functions for adding extra monomials to the relaxation:"
   ]
  },
  {
   "cell_type": "code",
   "execution_count": 8,
   "id": "e8c42840",
   "metadata": {},
   "outputs": [],
   "source": [
    "def get_extra_monomials():\n",
    "    \"\"\"\n",
    "    Returns additional monomials to add to sdp relaxation.\n",
    "    \"\"\"\n",
    "\n",
    "    monos = []\n",
    "\n",
    "    Aflat = ncp.flatten(A)\n",
    "    Bflat = ncp.flatten(B)\n",
    "\n",
    "    # ABB\n",
    "    for a in Aflat:\n",
    "        for b in Bflat:\n",
    "            for b2 in Bflat:\n",
    "                monos += [a*b*b2]\n",
    "    # AAB\n",
    "    for a in Aflat:\n",
    "        for a2 in Aflat:\n",
    "            for b in Bflat:\n",
    "                monos += [a*a2*b]\n",
    "\n",
    "    #AB\n",
    "    for a in Aflat:\n",
    "        for b in Bflat:\n",
    "            monos += [a*b]\n",
    "    \n",
    "    \n",
    "    return monos[:]\n",
    "\n",
    "def get_subs():\n",
    "    \"\"\"\n",
    "    Returns any substitution rules to use with ncpol2sdpa. E.g. projections and\n",
    "    commutation relations.\n",
    "    \"\"\"\n",
    "    subs = {}\n",
    "    # Get Alice and Bob's projective measurement constraints\n",
    "    subs.update(ncp.projective_measurement_constraints(A,B))\n",
    "\n",
    "    return subs"
   ]
  },
  {
   "cell_type": "markdown",
   "id": "539addb5",
   "metadata": {},
   "source": [
    "We are now ready to perform the relaxation and get the Tsirelson bound!"
   ]
  },
  {
   "cell_type": "code",
   "execution_count": 10,
   "id": "106180d9-5a33-4ccb-aca5-4dc18f803034",
   "metadata": {},
   "outputs": [
    {
     "name": "stdout",
     "output_type": "stream",
     "text": [
      "The problem has 4 noncommuting Hermitian variables\n",
      "Calculating block structure...\n",
      "Estimated number of SDP variables: 152\n",
      "Generating moment matrix...\n",
      "Reduced number of SDP variables: 40 40 (done: 100.66%, ETA 00:00:-0.0)\n",
      "\n",
      "Problem\n",
      "  Name                   :                 \n",
      "  Objective sense        : minimize        \n",
      "  Type                   : CONIC (conic optimization problem)\n",
      "  Constraints            : 40              \n",
      "  Affine conic cons.     : 0               \n",
      "  Disjunctive cons.      : 0               \n",
      "  Cones                  : 0               \n",
      "  Scalar variables       : 0               \n",
      "  Matrix variables       : 1 (scalarized: 153)\n",
      "  Integer variables      : 0               \n",
      "\n",
      "Optimizer started.\n",
      "Presolve started.\n",
      "Linear dependency checker started.\n",
      "Linear dependency checker terminated.\n",
      "Eliminator started.\n",
      "Freed constraints in eliminator : 0\n",
      "Eliminator terminated.\n",
      "Eliminator - tries                  : 1                 time                   : 0.00            \n",
      "Lin. dep.  - tries                  : 1                 time                   : 0.00            \n",
      "Lin. dep.  - primal attempts        : 1                 successes              : 1               \n",
      "Lin. dep.  - dual attempts          : 0                 successes              : 0               \n",
      "Lin. dep.  - primal deps.           : 0                 dual deps.             : 0               \n",
      "Presolve terminated. Time: 0.00    \n",
      "Optimizer  - threads                : 10              \n",
      "Optimizer  - solved problem         : the primal      \n",
      "Optimizer  - Constraints            : 40              \n",
      "Optimizer  - Cones                  : 0               \n",
      "Optimizer  - Scalar variables       : 0                 conic                  : 0               \n",
      "Optimizer  - Semi-definite variables: 1                 scalarized             : 153             \n",
      "Factor     - setup time             : 0.00            \n",
      "Factor     - dense det. time        : 0.00              GP order time          : 0.00            \n",
      "Factor     - nonzeros before factor : 820               after factor           : 820             \n",
      "Factor     - dense dim.             : 0                 flops                  : 6.28e+04        \n",
      "ITE PFEAS    DFEAS    GFEAS    PRSTATUS   POBJ              DOBJ              MU       TIME  \n",
      "0   5.0e+00  1.0e+00  2.0e+00  0.00e+00   1.000000000e+00   0.000000000e+00   1.0e+00  0.00  \n",
      "1   1.2e+00  2.4e-01  5.8e-01  -6.18e-01  2.126078470e+00   2.571037753e+00   2.4e-01  0.01  \n",
      "2   2.7e-01  5.4e-02  3.6e-02  9.45e-01   1.015504740e+00   9.066703567e-01   5.4e-02  0.01  \n",
      "3   4.3e-02  8.5e-03  2.1e-03  1.12e+00   8.302953033e-01   8.135737129e-01   8.5e-03  0.01  \n",
      "4   3.8e-03  7.7e-04  5.8e-05  1.02e+00   8.284175839e-01   8.269369104e-01   7.7e-04  0.01  \n",
      "5   2.0e-04  3.9e-05  6.6e-07  1.01e+00   8.285644056e-01   8.284877793e-01   3.9e-05  0.01  \n",
      "6   1.9e-05  3.7e-06  1.9e-08  1.01e+00   8.284486219e-01   8.284413757e-01   3.7e-06  0.01  \n",
      "7   9.3e-07  1.9e-07  2.1e-10  1.01e+00   8.284287362e-01   8.284283666e-01   1.9e-07  0.01  \n",
      "8   5.5e-08  1.1e-08  3.0e-12  1.01e+00   8.284272461e-01   8.284272237e-01   1.1e-08  0.01  \n",
      "9   4.3e-09  7.9e-10  4.5e-14  1.01e+00   8.284271329e-01   8.284271314e-01   6.9e-10  0.01  \n",
      "Optimizer terminated. Time: 0.01    \n",
      "\n",
      "2.828427132861199\n"
     ]
    },
    {
     "name": "stderr",
     "output_type": "stream",
     "text": [
      "Warning: The objective function has a non-zero -2.0 constant term. It is not included in the SDP objective.\n"
     ]
    }
   ],
   "source": [
    "substitutions = get_subs()             # substitutions used in ncpol2sdpa\n",
    "moment_ineqs = []                      # moment inequalities\n",
    "moment_eqs = []                        # moment equalities\n",
    "op_eqs = []                            # operator equalities\n",
    "op_ineqs = []                          # operator inequalities\n",
    "extra_monos = get_extra_monomials()    # extra monomials\n",
    "LEVEL = 1\n",
    "\n",
    "# S_W =  (2*A_{0|0}*B_{0|0} + 3 - 2*A0 - 2*B0 + 2*A_{0|0}*B_{0|1} + 2*A1*B0  - 2*A1*B1)/4\n",
    "\n",
    "# Bounds on the parameters of sys\n",
    "ops = ncp.flatten([A,B])        # Base monomials involved in problem\n",
    "obj = ((2*A[0][0]*B[0][0] + 3 - 2*A[0][0] - 2*B[0][0] + 2*A[0][0]*B[1][0] + 2*A[1][0]*B[0][0] - 2*A[1][0]*B[1][0])/4)*8-4\n",
    "sdp = ncp.SdpRelaxation(ops, verbose = 1, normalized=True, parallel=0)\n",
    "sdp.get_relaxation(level = LEVEL,\n",
    "                    equalities = op_eqs[:],\n",
    "                    inequalities = op_ineqs[:],\n",
    "                    momentequalities = moment_eqs[:],\n",
    "                    momentinequalities = moment_ineqs[:],\n",
    "                    objective = -obj,\n",
    "                    substitutions = substitutions,\n",
    "                    extramonomials = extra_monos)\n",
    "sdp.solve('mosek')\n",
    "print(-sdp.primal)"
   ]
  },
  {
   "cell_type": "markdown",
   "id": "7e7a7d1b",
   "metadata": {},
   "source": [
    "Our numerical calculation is quite close to the analytical bound!"
   ]
  },
  {
   "cell_type": "code",
   "execution_count": 11,
   "id": "5f2d3688-22a5-47a0-966c-5155d186ac47",
   "metadata": {},
   "outputs": [
    {
     "data": {
      "text/plain": [
       "np.float64(2.8284271247461903)"
      ]
     },
     "execution_count": 11,
     "metadata": {},
     "output_type": "execute_result"
    }
   ],
   "source": [
    "2*np.sqrt(2)"
   ]
  },
  {
   "cell_type": "markdown",
   "id": "02df2d1b",
   "metadata": {},
   "source": [
    "We can also write the matrix to a csv file:"
   ]
  },
  {
   "cell_type": "code",
   "execution_count": null,
   "id": "a777755c-b735-469e-bd3f-d5eb0b60363e",
   "metadata": {},
   "outputs": [],
   "source": [
    "sdp.write_to_file(\"CHSH.csv\")"
   ]
  }
 ],
 "metadata": {
  "kernelspec": {
   "display_name": "quantum",
   "language": "python",
   "name": "python3"
  },
  "language_info": {
   "codemirror_mode": {
    "name": "ipython",
    "version": 3
   },
   "file_extension": ".py",
   "mimetype": "text/x-python",
   "name": "python",
   "nbconvert_exporter": "python",
   "pygments_lexer": "ipython3",
   "version": "3.13.2"
  }
 },
 "nbformat": 4,
 "nbformat_minor": 5
}
